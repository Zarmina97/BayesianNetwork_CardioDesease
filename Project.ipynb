{
  "nbformat": 4,
  "nbformat_minor": 0,
  "metadata": {
    "colab": {
      "name": "Project_Zarmina_Ursino_FAIKR3.ipynb",
      "provenance": [],
      "collapsed_sections": [],
      "toc_visible": true
    },
    "kernelspec": {
      "name": "python3",
      "display_name": "Python 3"
    },
    "language_info": {
      "name": "python"
    }
  },
  "cells": [
    {
      "cell_type": "markdown",
      "metadata": {
        "id": "d1_nJBvLxZTo"
      },
      "source": [
        "#**A Bayesian Network to model the influence of some behavioural risk factors on Cardiovascular diseases**.\n",
        "\n",
        "##By Zarmina Ursino, zarmina.ursino@studio.unibo.it\n",
        "\n",
        "Fundamentals of Artificial Intelligence and Knowledge Representation (Mod. 3) - Alma Mater Studiorum Università di Bologna\n",
        "\n",
        "---\n",
        "\n"
      ]
    },
    {
      "cell_type": "code",
      "metadata": {
        "colab": {
          "base_uri": "https://localhost:8080/"
        },
        "id": "pZP7zIvGCnoo",
        "outputId": "49d3edb9-38ac-4c34-9842-086f1c4014ab"
      },
      "source": [
        "pip install pgmpy\n"
      ],
      "execution_count": 28,
      "outputs": [
        {
          "output_type": "stream",
          "name": "stdout",
          "text": [
            "Requirement already satisfied: pgmpy in /usr/local/lib/python3.7/dist-packages (0.1.15)\n",
            "Requirement already satisfied: scipy in /usr/local/lib/python3.7/dist-packages (from pgmpy) (1.4.1)\n",
            "Requirement already satisfied: statsmodels in /usr/local/lib/python3.7/dist-packages (from pgmpy) (0.10.2)\n",
            "Requirement already satisfied: pandas in /usr/local/lib/python3.7/dist-packages (from pgmpy) (1.1.5)\n",
            "Requirement already satisfied: networkx in /usr/local/lib/python3.7/dist-packages (from pgmpy) (2.6.2)\n",
            "Requirement already satisfied: tqdm in /usr/local/lib/python3.7/dist-packages (from pgmpy) (4.62.0)\n",
            "Requirement already satisfied: pyparsing in /usr/local/lib/python3.7/dist-packages (from pgmpy) (2.4.7)\n",
            "Requirement already satisfied: scikit-learn in /usr/local/lib/python3.7/dist-packages (from pgmpy) (0.22.2.post1)\n",
            "Requirement already satisfied: joblib in /usr/local/lib/python3.7/dist-packages (from pgmpy) (1.0.1)\n",
            "Requirement already satisfied: torch in /usr/local/lib/python3.7/dist-packages (from pgmpy) (1.9.0+cu102)\n",
            "Requirement already satisfied: numpy in /usr/local/lib/python3.7/dist-packages (from pgmpy) (1.19.5)\n",
            "Requirement already satisfied: pytz>=2017.2 in /usr/local/lib/python3.7/dist-packages (from pandas->pgmpy) (2018.9)\n",
            "Requirement already satisfied: python-dateutil>=2.7.3 in /usr/local/lib/python3.7/dist-packages (from pandas->pgmpy) (2.8.2)\n",
            "Requirement already satisfied: six>=1.5 in /usr/local/lib/python3.7/dist-packages (from python-dateutil>=2.7.3->pandas->pgmpy) (1.15.0)\n",
            "Requirement already satisfied: patsy>=0.4.0 in /usr/local/lib/python3.7/dist-packages (from statsmodels->pgmpy) (0.5.1)\n",
            "Requirement already satisfied: typing-extensions in /usr/local/lib/python3.7/dist-packages (from torch->pgmpy) (3.7.4.3)\n"
          ]
        }
      ]
    },
    {
      "cell_type": "markdown",
      "metadata": {
        "id": "CbFcxU7yRQOG"
      },
      "source": [
        "#Modules"
      ]
    },
    {
      "cell_type": "code",
      "metadata": {
        "id": "gFbaGTJaCwae"
      },
      "source": [
        "from pandas import read_csv, DataFrame\n",
        "import pandas\n",
        "import numpy as np\n",
        "from pgmpy.models import BayesianModel\n",
        "from pgmpy.estimators import BayesianEstimator, MaximumLikelihoodEstimator\n",
        "from IPython.core.display import display, HTML\n",
        "from pgmpy.independencies.Independencies import IndependenceAssertion\n",
        "from pgmpy.inference import VariableElimination\n"
      ],
      "execution_count": 29,
      "outputs": []
    },
    {
      "cell_type": "markdown",
      "metadata": {
        "id": "K9bLIFA2RUQN"
      },
      "source": [
        "#Reading csv file\n",
        "\n",
        "\n",
        "\n",
        "There are 3 types of input features:\n",
        "\n",
        "- Objective: factual information;\n",
        "- Examination: results of medical examination;\n",
        "- Subjective: information given by the patient.\n",
        "\n",
        "\n",
        "1.   Age | Objective Feature | age | int (days)|\n",
        "2.   Height | Objective Feature | height | int (cm) \n",
        "3.   Weight | Objective Feature | weight | float (kg) |\n",
        "4.   Gender | Objective Feature | Gender | categorical code |\n",
        "5.   Systolic blood pressure | Examination Feature | Ap_hi | int |\n",
        "6.   Diastolic blood pressure | Examination Feature | Ap_lo | int |\n",
        "7.   Cholesterol | Examination Feature | Cholesterol | 1: normal, 2: above normal, 3: well above normal |\n",
        "8.   Glucose | Examination Feature | Gluc | 1: normal, 2: above normal, 3: well above normal |\n",
        "9.   Smoking | Subjective Feature | Smoke | binary |\n",
        "10.  Alcohol intake | Subjective Feature | Alco | binary |\n",
        "11.  Physical activity | Subjective Feature | Active | binary |\n",
        "12.  Presence or absence of Cardiovascular disease | Target Variable | Cardio | binary |\n",
        "\n",
        "\n",
        "\n",
        "\n",
        "\n",
        "\n"
      ]
    },
    {
      "cell_type": "code",
      "metadata": {
        "colab": {
          "base_uri": "https://localhost:8080/",
          "height": 242
        },
        "id": "yC5WpKyJKrtG",
        "outputId": "879687c2-bb20-4634-cc88-ae2cac23bbcb"
      },
      "source": [
        "df0=read_csv(\"cardio_train.csv\", sep=';')\n",
        "print(\"There are {} records and {} columns in the Dataframe\\n\".format(df0.shape[0], df0.shape[1]))\n",
        "df0.head()\n"
      ],
      "execution_count": 30,
      "outputs": [
        {
          "output_type": "stream",
          "name": "stdout",
          "text": [
            "There are 70000 records and 13 columns in the Dataframe\n",
            "\n"
          ]
        },
        {
          "output_type": "execute_result",
          "data": {
            "text/html": [
              "<div>\n",
              "<style scoped>\n",
              "    .dataframe tbody tr th:only-of-type {\n",
              "        vertical-align: middle;\n",
              "    }\n",
              "\n",
              "    .dataframe tbody tr th {\n",
              "        vertical-align: top;\n",
              "    }\n",
              "\n",
              "    .dataframe thead th {\n",
              "        text-align: right;\n",
              "    }\n",
              "</style>\n",
              "<table border=\"1\" class=\"dataframe\">\n",
              "  <thead>\n",
              "    <tr style=\"text-align: right;\">\n",
              "      <th></th>\n",
              "      <th>id</th>\n",
              "      <th>age</th>\n",
              "      <th>gender</th>\n",
              "      <th>height</th>\n",
              "      <th>weight</th>\n",
              "      <th>ap_hi</th>\n",
              "      <th>ap_lo</th>\n",
              "      <th>cholesterol</th>\n",
              "      <th>gluc</th>\n",
              "      <th>smoke</th>\n",
              "      <th>alco</th>\n",
              "      <th>active</th>\n",
              "      <th>cardio</th>\n",
              "    </tr>\n",
              "  </thead>\n",
              "  <tbody>\n",
              "    <tr>\n",
              "      <th>0</th>\n",
              "      <td>0</td>\n",
              "      <td>18393</td>\n",
              "      <td>2</td>\n",
              "      <td>168</td>\n",
              "      <td>62.0</td>\n",
              "      <td>110</td>\n",
              "      <td>80</td>\n",
              "      <td>1</td>\n",
              "      <td>1</td>\n",
              "      <td>0</td>\n",
              "      <td>0</td>\n",
              "      <td>1</td>\n",
              "      <td>0</td>\n",
              "    </tr>\n",
              "    <tr>\n",
              "      <th>1</th>\n",
              "      <td>1</td>\n",
              "      <td>20228</td>\n",
              "      <td>1</td>\n",
              "      <td>156</td>\n",
              "      <td>85.0</td>\n",
              "      <td>140</td>\n",
              "      <td>90</td>\n",
              "      <td>3</td>\n",
              "      <td>1</td>\n",
              "      <td>0</td>\n",
              "      <td>0</td>\n",
              "      <td>1</td>\n",
              "      <td>1</td>\n",
              "    </tr>\n",
              "    <tr>\n",
              "      <th>2</th>\n",
              "      <td>2</td>\n",
              "      <td>18857</td>\n",
              "      <td>1</td>\n",
              "      <td>165</td>\n",
              "      <td>64.0</td>\n",
              "      <td>130</td>\n",
              "      <td>70</td>\n",
              "      <td>3</td>\n",
              "      <td>1</td>\n",
              "      <td>0</td>\n",
              "      <td>0</td>\n",
              "      <td>0</td>\n",
              "      <td>1</td>\n",
              "    </tr>\n",
              "    <tr>\n",
              "      <th>3</th>\n",
              "      <td>3</td>\n",
              "      <td>17623</td>\n",
              "      <td>2</td>\n",
              "      <td>169</td>\n",
              "      <td>82.0</td>\n",
              "      <td>150</td>\n",
              "      <td>100</td>\n",
              "      <td>1</td>\n",
              "      <td>1</td>\n",
              "      <td>0</td>\n",
              "      <td>0</td>\n",
              "      <td>1</td>\n",
              "      <td>1</td>\n",
              "    </tr>\n",
              "    <tr>\n",
              "      <th>4</th>\n",
              "      <td>4</td>\n",
              "      <td>17474</td>\n",
              "      <td>1</td>\n",
              "      <td>156</td>\n",
              "      <td>56.0</td>\n",
              "      <td>100</td>\n",
              "      <td>60</td>\n",
              "      <td>1</td>\n",
              "      <td>1</td>\n",
              "      <td>0</td>\n",
              "      <td>0</td>\n",
              "      <td>0</td>\n",
              "      <td>0</td>\n",
              "    </tr>\n",
              "  </tbody>\n",
              "</table>\n",
              "</div>"
            ],
            "text/plain": [
              "   id    age  gender  height  weight  ...  gluc  smoke  alco  active  cardio\n",
              "0   0  18393       2     168    62.0  ...     1      0     0       1       0\n",
              "1   1  20228       1     156    85.0  ...     1      0     0       1       1\n",
              "2   2  18857       1     165    64.0  ...     1      0     0       0       1\n",
              "3   3  17623       2     169    82.0  ...     1      0     0       1       1\n",
              "4   4  17474       1     156    56.0  ...     1      0     0       0       0\n",
              "\n",
              "[5 rows x 13 columns]"
            ]
          },
          "metadata": {},
          "execution_count": 30
        }
      ]
    },
    {
      "cell_type": "markdown",
      "metadata": {
        "id": "JaJM51VpRYWg"
      },
      "source": [
        "#Data cleaning\n",
        "I decide to remove the 'id' feature because it doesn't contribute much to our target variable. Moreover, I capitalize the first letter of columns' name for the sake of notational conventions."
      ]
    },
    {
      "cell_type": "code",
      "metadata": {
        "colab": {
          "base_uri": "https://localhost:8080/",
          "height": 206
        },
        "id": "hZzQYQWkWx0C",
        "outputId": "a42b1e1a-f18f-4a68-cc4d-f2714dfd5cd4"
      },
      "source": [
        "df=df0.drop('id', axis=1)\n",
        "df.columns=df.columns.str.capitalize()\n",
        "df.head()"
      ],
      "execution_count": 31,
      "outputs": [
        {
          "output_type": "execute_result",
          "data": {
            "text/html": [
              "<div>\n",
              "<style scoped>\n",
              "    .dataframe tbody tr th:only-of-type {\n",
              "        vertical-align: middle;\n",
              "    }\n",
              "\n",
              "    .dataframe tbody tr th {\n",
              "        vertical-align: top;\n",
              "    }\n",
              "\n",
              "    .dataframe thead th {\n",
              "        text-align: right;\n",
              "    }\n",
              "</style>\n",
              "<table border=\"1\" class=\"dataframe\">\n",
              "  <thead>\n",
              "    <tr style=\"text-align: right;\">\n",
              "      <th></th>\n",
              "      <th>Age</th>\n",
              "      <th>Gender</th>\n",
              "      <th>Height</th>\n",
              "      <th>Weight</th>\n",
              "      <th>Ap_hi</th>\n",
              "      <th>Ap_lo</th>\n",
              "      <th>Cholesterol</th>\n",
              "      <th>Gluc</th>\n",
              "      <th>Smoke</th>\n",
              "      <th>Alco</th>\n",
              "      <th>Active</th>\n",
              "      <th>Cardio</th>\n",
              "    </tr>\n",
              "  </thead>\n",
              "  <tbody>\n",
              "    <tr>\n",
              "      <th>0</th>\n",
              "      <td>18393</td>\n",
              "      <td>2</td>\n",
              "      <td>168</td>\n",
              "      <td>62.0</td>\n",
              "      <td>110</td>\n",
              "      <td>80</td>\n",
              "      <td>1</td>\n",
              "      <td>1</td>\n",
              "      <td>0</td>\n",
              "      <td>0</td>\n",
              "      <td>1</td>\n",
              "      <td>0</td>\n",
              "    </tr>\n",
              "    <tr>\n",
              "      <th>1</th>\n",
              "      <td>20228</td>\n",
              "      <td>1</td>\n",
              "      <td>156</td>\n",
              "      <td>85.0</td>\n",
              "      <td>140</td>\n",
              "      <td>90</td>\n",
              "      <td>3</td>\n",
              "      <td>1</td>\n",
              "      <td>0</td>\n",
              "      <td>0</td>\n",
              "      <td>1</td>\n",
              "      <td>1</td>\n",
              "    </tr>\n",
              "    <tr>\n",
              "      <th>2</th>\n",
              "      <td>18857</td>\n",
              "      <td>1</td>\n",
              "      <td>165</td>\n",
              "      <td>64.0</td>\n",
              "      <td>130</td>\n",
              "      <td>70</td>\n",
              "      <td>3</td>\n",
              "      <td>1</td>\n",
              "      <td>0</td>\n",
              "      <td>0</td>\n",
              "      <td>0</td>\n",
              "      <td>1</td>\n",
              "    </tr>\n",
              "    <tr>\n",
              "      <th>3</th>\n",
              "      <td>17623</td>\n",
              "      <td>2</td>\n",
              "      <td>169</td>\n",
              "      <td>82.0</td>\n",
              "      <td>150</td>\n",
              "      <td>100</td>\n",
              "      <td>1</td>\n",
              "      <td>1</td>\n",
              "      <td>0</td>\n",
              "      <td>0</td>\n",
              "      <td>1</td>\n",
              "      <td>1</td>\n",
              "    </tr>\n",
              "    <tr>\n",
              "      <th>4</th>\n",
              "      <td>17474</td>\n",
              "      <td>1</td>\n",
              "      <td>156</td>\n",
              "      <td>56.0</td>\n",
              "      <td>100</td>\n",
              "      <td>60</td>\n",
              "      <td>1</td>\n",
              "      <td>1</td>\n",
              "      <td>0</td>\n",
              "      <td>0</td>\n",
              "      <td>0</td>\n",
              "      <td>0</td>\n",
              "    </tr>\n",
              "  </tbody>\n",
              "</table>\n",
              "</div>"
            ],
            "text/plain": [
              "     Age  Gender  Height  Weight  Ap_hi  ...  Gluc  Smoke  Alco  Active  Cardio\n",
              "0  18393       2     168    62.0    110  ...     1      0     0       1       0\n",
              "1  20228       1     156    85.0    140  ...     1      0     0       1       1\n",
              "2  18857       1     165    64.0    130  ...     1      0     0       0       1\n",
              "3  17623       2     169    82.0    150  ...     1      0     0       1       1\n",
              "4  17474       1     156    56.0    100  ...     1      0     0       0       0\n",
              "\n",
              "[5 rows x 12 columns]"
            ]
          },
          "metadata": {},
          "execution_count": 31
        }
      ]
    },
    {
      "cell_type": "markdown",
      "metadata": {
        "id": "_3OR8aEzRcjk"
      },
      "source": [
        "##Converting age from days to years"
      ]
    },
    {
      "cell_type": "code",
      "metadata": {
        "id": "pwWTTw7JQB6y"
      },
      "source": [
        "#From days to years\n",
        "df['Age']=df['Age'].apply(lambda x: int(x/365))\n",
        "df=df.rename(columns={'Age':'Age_(y)'})\n"
      ],
      "execution_count": 32,
      "outputs": []
    },
    {
      "cell_type": "markdown",
      "metadata": {
        "id": "jpugXC46TFfq"
      },
      "source": [
        "##Converting height from cm to m"
      ]
    },
    {
      "cell_type": "code",
      "metadata": {
        "id": "XzDqdelRTBH6"
      },
      "source": [
        "#From cm to m\n",
        "df['Height']=df['Height'].apply(lambda x:x/100)\n",
        "df=df.rename(columns={'Height':'Height_(m)'})\n"
      ],
      "execution_count": 33,
      "outputs": []
    },
    {
      "cell_type": "markdown",
      "metadata": {
        "id": "Mky-toNJSoPd"
      },
      "source": [
        "##Categorising ages column "
      ]
    },
    {
      "cell_type": "code",
      "metadata": {
        "id": "MBkrimdqTGDH"
      },
      "source": [
        "bins_age= [-1,0,2,4,13,20, 40,59, 110]\n",
        "labels_age = ['unknown','Infant','Toddler','Kid','Teen','Young Adult','Middle-aged Adult', 'Old Adult']\n",
        "df['Age_(y)'] = pandas.cut(df['Age_(y)'], bins=bins_age, labels=labels_age, right=False)"
      ],
      "execution_count": 34,
      "outputs": []
    },
    {
      "cell_type": "markdown",
      "metadata": {
        "id": "i2BuADcmq7vz"
      },
      "source": [
        "##Calculating and categorising the BMI\n",
        "The Body Mass Index (BMI) is a widely used parameter for an overall assessment of body weight. It uses a simple mathematical formula to relate height to weight. It is obtained by dividing the person's weight in kg by the square of their height in metres. The result of this formula classifies the subject in a weight area that can be: normal - underweight - overweight - obesity. "
      ]
    },
    {
      "cell_type": "code",
      "metadata": {
        "id": "0j5i4WQ_1PEp"
      },
      "source": [
        "\n",
        "df['BMI']=df['Weight']/np.power((df['Height_(m)']),2) \n",
        "bins_BMI= [-1,0,18.5,24.9,29.9,40]\n",
        "labels_BMI = ['unknown','underweight','normal weight','overweight','obese']\n",
        "df['BMI'] = pandas.cut(df['BMI'], bins=bins_BMI, labels=labels_BMI, right=False)"
      ],
      "execution_count": 35,
      "outputs": []
    },
    {
      "cell_type": "markdown",
      "metadata": {
        "id": "j1cZFjLF_NLu"
      },
      "source": [
        "##Remove weight and height"
      ]
    },
    {
      "cell_type": "code",
      "metadata": {
        "id": "ytkg18TY_MP9"
      },
      "source": [
        "df=df.drop(columns=['Weight', 'Height_(m)'])\n"
      ],
      "execution_count": 36,
      "outputs": []
    },
    {
      "cell_type": "markdown",
      "metadata": {
        "id": "Pq3AnddnrC1L"
      },
      "source": [
        "##Categorising ip_hi and ip_lo column \n",
        "Blood pressure, it’s expressed as a measurement with two numbers, with one number on top (systolic) and one on the bottom (diastolic), like a fraction. The top number refers to the amount of pressure in the arteries during the contraction of the heart muscle. This is called systolic pressure ('Ap_hi'). The bottom number refers to your blood pressure when the heart muscle is between beats. This is called diastolic pressure ('Ap_lo'). The AHA recommends specific ranges for healthy adults "
      ]
    },
    {
      "cell_type": "code",
      "metadata": {
        "id": "6JqeyP8X2Bhz"
      },
      "source": [
        "bins_Ap_hi= [-1,0,120,129,139,140, 180]\n",
        "labels_Ap_hi = ['unknown','normal','elevated','hight_blood_pressure_stage1','hight_blood_pressure_stage2','hypertensive crisis']\n",
        "df['Ap_hi'] = pandas.cut(df['Ap_hi'], bins=bins_Ap_hi, labels=labels_Ap_hi, right=False)"
      ],
      "execution_count": 37,
      "outputs": []
    },
    {
      "cell_type": "code",
      "metadata": {
        "id": "hX45z0A46ixx"
      },
      "source": [
        "bins_Ap_lo= [-1,0,80,89,90,120]\n",
        "labels_Ap_lo = ['unknown','normal','hight_blood_pressure_stage1','hight_blood_pressure_stage2','hypertensive crisis']\n",
        "df['Ap_lo'] = pandas.cut(df['Ap_lo'], bins=bins_Ap_lo, labels=labels_Ap_lo, right=False)"
      ],
      "execution_count": 38,
      "outputs": []
    },
    {
      "cell_type": "markdown",
      "metadata": {
        "id": "SARrKEV4RsHO"
      },
      "source": [
        "#Bayesian Model and CPT\n",
        "\n",
        "\n",
        "\n",
        "\n",
        "\n",
        "\n",
        "\n",
        "\n",
        "\n",
        "\n",
        "\n",
        "\n",
        "\n",
        "\n",
        "\n",
        "\n",
        "\n",
        "\n",
        "\n",
        "\n",
        "\n",
        "\n",
        "\n",
        "\n",
        "\n",
        "\n",
        "\n",
        "\n",
        "\n",
        "\n",
        "\n",
        "\n",
        "\n",
        "\n",
        "\n",
        "\n",
        "\n",
        "\n",
        "\n",
        "\n",
        "\n",
        "\n",
        "\n",
        "\n",
        "\n",
        "\n",
        "\n",
        "\n",
        "\n",
        "\n",
        "\n",
        "\n",
        "\n",
        "\n",
        "\n",
        "\n",
        "\n",
        "\n",
        "\n",
        "\n",
        "\n",
        "\n",
        "\n",
        "\n",
        "\n",
        "\n",
        "\n",
        "\n",
        "\n",
        "\n",
        "\n",
        "\n",
        "\n",
        "\n",
        "\n",
        "\n",
        "\n",
        "\n",
        "\n",
        "\n",
        "\n",
        "\n",
        "\n",
        "\n",
        "\n",
        "\n",
        "\n",
        "\n",
        "\n",
        "\n",
        "\n",
        "\n",
        "\n",
        "\n",
        "\n",
        "\n",
        "\n",
        "\n",
        "\n",
        "\n",
        "\n",
        "\n",
        "\n",
        "\n",
        "\n",
        "\n",
        "\n",
        "\n",
        "![SharedScreenshot.jpg](data:image/jpeg;base64,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)"
      ]
    },
    {
      "cell_type": "code",
      "metadata": {
        "id": "DfFJYFHrPb10"
      },
      "source": [
        "model=BayesianModel([('Active','BMI'),\n",
        "                     ('Age_(y)','BMI'),\n",
        "                     ('Gender', 'BMI'),\n",
        "                     ('BMI', 'Cholesterol'),('BMI', 'Gluc'),('BMI', 'Ap_lo'),('BMI', 'Ap_hi'),\n",
        "                     ('Smoke', 'Cholesterol'),('Smoke', 'Gluc'),('Smoke', 'Ap_lo'),('Smoke', 'Ap_hi'),\n",
        "                     ('Alco', 'Cholesterol'),('Alco', 'Gluc'),('Alco', 'Ap_lo'),('Alco', 'Ap_hi'),\n",
        "                     ('Cholesterol', 'Cardio'),('Gluc', 'Cardio'),('Ap_lo', 'Cardio'),('Ap_hi','Cardio'),\n",
        "                     ])"
      ],
      "execution_count": 39,
      "outputs": []
    },
    {
      "cell_type": "code",
      "metadata": {
        "colab": {
          "base_uri": "https://localhost:8080/",
          "height": 1000
        },
        "id": "z3TpHh4zm0HD",
        "outputId": "acf42cd9-a53c-4906-b0d8-4e95d526f13d"
      },
      "source": [
        "display(HTML(\"<style>div.output_area pre {white-space: pre;}</style>\"))\n",
        "\n",
        "model.cpds = []\n",
        "model.fit(data=df, \n",
        "          estimator=BayesianEstimator,\n",
        "          prior_type=\"BDeu\",\n",
        "          equivalent_sample_size=10,\n",
        "          complete_samples_only=False)\n",
        "\n",
        "print(f'Check model: {model.check_model()}\\n')\n",
        "\n",
        "for cpd in model.get_cpds():\n",
        "    print(f'CPT of {cpd.variable}:')\n",
        "    print(cpd, '\\n')\n",
        "    "
      ],
      "execution_count": 40,
      "outputs": [
        {
          "output_type": "display_data",
          "data": {
            "text/html": [
              "<style>div.output_area pre {white-space: pre;}</style>"
            ],
            "text/plain": [
              "<IPython.core.display.HTML object>"
            ]
          },
          "metadata": {}
        },
        {
          "output_type": "stream",
          "name": "stdout",
          "text": [
            "Check model: True\n",
            "\n",
            "CPT of Active:\n",
            "+-----------+----------+\n",
            "| Active(0) | 0.196315 |\n",
            "+-----------+----------+\n",
            "| Active(1) | 0.803685 |\n",
            "+-----------+----------+ \n",
            "\n",
            "CPT of BMI:\n",
            "+--------------------+----------------------------+----------------------------+----------------------+----------------------+----------------------+----------------------+----------------------------+----------------------------+----------------------+----------------------+----------------------+----------------------+\n",
            "| Active             | Active(0)                  | Active(0)                  | Active(0)            | Active(0)            | Active(0)            | Active(0)            | Active(1)                  | Active(1)                  | Active(1)            | Active(1)            | Active(1)            | Active(1)            |\n",
            "+--------------------+----------------------------+----------------------------+----------------------+----------------------+----------------------+----------------------+----------------------------+----------------------------+----------------------+----------------------+----------------------+----------------------+\n",
            "| Age_(y)            | Age_(y)(Middle-aged Adult) | Age_(y)(Middle-aged Adult) | Age_(y)(Old Adult)   | Age_(y)(Old Adult)   | Age_(y)(Young Adult) | Age_(y)(Young Adult) | Age_(y)(Middle-aged Adult) | Age_(y)(Middle-aged Adult) | Age_(y)(Old Adult)   | Age_(y)(Old Adult)   | Age_(y)(Young Adult) | Age_(y)(Young Adult) |\n",
            "+--------------------+----------------------------+----------------------------+----------------------+----------------------+----------------------+----------------------+----------------------------+----------------------------+----------------------+----------------------+----------------------+----------------------+\n",
            "| Gender             | Gender(1)                  | Gender(2)                  | Gender(1)            | Gender(2)            | Gender(1)            | Gender(2)            | Gender(1)                  | Gender(2)                  | Gender(1)            | Gender(2)            | Gender(1)            | Gender(2)            |\n",
            "+--------------------+----------------------------+----------------------------+----------------------+----------------------+----------------------+----------------------+----------------------------+----------------------------+----------------------+----------------------+----------------------+----------------------+\n",
            "| BMI(normal weight) | 0.3802823374917926         | 0.3790744119532521         | 0.29791449843887596  | 0.33270408890155295  | 0.36402214022140217  | 0.48525179856115114  | 0.3646459004883031         | 0.3916457758112776         | 0.2937727354945033   | 0.36126719451235084  | 0.4546652352137419   | 0.47429906542056066  |\n",
            "+--------------------+----------------------------+----------------------------+----------------------+----------------------+----------------------+----------------------+----------------------------+----------------------------+----------------------+----------------------+----------------------+----------------------+\n",
            "| BMI(obese)         | 0.2576822061720289         | 0.20569308151289512        | 0.34883115843407253  | 0.22756090611198176  | 0.2311808118081181   | 0.1485611510791367   | 0.2611639485526442         | 0.18363061886992987        | 0.3328426151094318   | 0.2036432298317948   | 0.19466133125121998  | 0.14870364787458545  |\n",
            "+--------------------+----------------------------+----------------------------+----------------------+----------------------+----------------------+----------------------+----------------------------+----------------------------+----------------------+----------------------+----------------------+----------------------+\n",
            "| BMI(overweight)    | 0.35349310571240977        | 0.40836579713003596        | 0.34739012088703863  | 0.4344279811939023   | 0.3861623616236162   | 0.3298561151079137   | 0.3636118469345419         | 0.4152822864800545         | 0.36479791788090116  | 0.42716276863575     | 0.32583447198906884  | 0.3639583961410913   |\n",
            "+--------------------+----------------------------+----------------------------+----------------------+----------------------+----------------------+----------------------+----------------------------+----------------------------+----------------------+----------------------+----------------------+----------------------+\n",
            "| BMI(underweight)   | 0.008542350623768877       | 0.0068667094038167556      | 0.005864222240012809 | 0.005307023792563043 | 0.018634686346863466 | 0.03633093525179856  | 0.010578304024510899       | 0.009441318838738          | 0.008586731515163695 | 0.007926807020104353 | 0.024838961545969155 | 0.013038890563762435 |\n",
            "+--------------------+----------------------------+----------------------------+----------------------+----------------------+----------------------+----------------------+----------------------------+----------------------------+----------------------+----------------------+----------------------+----------------------+ \n",
            "\n",
            "CPT of Age_(y):\n",
            "+----------------------------+-----------+\n",
            "| Age_(y)(Middle-aged Adult) | 0.736942  |\n",
            "+----------------------------+-----------+\n",
            "| Age_(y)(Old Adult)         | 0.237528  |\n",
            "+----------------------------+-----------+\n",
            "| Age_(y)(Young Adult)       | 0.0255297 |\n",
            "+----------------------------+-----------+ \n",
            "\n",
            "CPT of Gender:\n",
            "+-----------+----------+\n",
            "| Gender(1) | 0.650407 |\n",
            "+-----------+----------+\n",
            "| Gender(2) | 0.349593 |\n",
            "+-----------+----------+ \n",
            "\n",
            "CPT of Cholesterol:\n",
            "+----------------+---------------------+---------------------+---------------------+---------------------+---------------------+---------------------+---------------------+---------------------+---------------------+---------------------+---------------------+---------------------+---------------------+---------------------+---------------------+---------------------+\n",
            "| Alco           | Alco(0)             | Alco(0)             | Alco(0)             | Alco(0)             | Alco(0)             | Alco(0)             | Alco(0)             | Alco(0)             | Alco(1)             | Alco(1)             | Alco(1)             | Alco(1)             | Alco(1)             | Alco(1)             | Alco(1)             | Alco(1)             |\n",
            "+----------------+---------------------+---------------------+---------------------+---------------------+---------------------+---------------------+---------------------+---------------------+---------------------+---------------------+---------------------+---------------------+---------------------+---------------------+---------------------+---------------------+\n",
            "| BMI            | BMI(normal weight)  | BMI(normal weight)  | BMI(obese)          | BMI(obese)          | BMI(overweight)     | BMI(overweight)     | BMI(underweight)    | BMI(underweight)    | BMI(normal weight)  | BMI(normal weight)  | BMI(obese)          | BMI(obese)          | BMI(overweight)     | BMI(overweight)     | BMI(underweight)    | BMI(underweight)    |\n",
            "+----------------+---------------------+---------------------+---------------------+---------------------+---------------------+---------------------+---------------------+---------------------+---------------------+---------------------+---------------------+---------------------+---------------------+---------------------+---------------------+---------------------+\n",
            "| Smoke          | Smoke(0)            | Smoke(1)            | Smoke(0)            | Smoke(1)            | Smoke(0)            | Smoke(1)            | Smoke(0)            | Smoke(1)            | Smoke(0)            | Smoke(1)            | Smoke(0)            | Smoke(1)            | Smoke(0)            | Smoke(1)            | Smoke(0)            | Smoke(1)            |\n",
            "+----------------+---------------------+---------------------+---------------------+---------------------+---------------------+---------------------+---------------------+---------------------+---------------------+---------------------+---------------------+---------------------+---------------------+---------------------+---------------------+---------------------+\n",
            "| Cholesterol(1) | 0.8274334699260516  | 0.7890393508903105  | 0.6521225656051739  | 0.646394241720195   | 0.7610899908223303  | 0.7160957851689006  | 0.8274666076304331  | 0.8276125095347062  | 0.7598536808413352  | 0.7918596751281576  | 0.5151637415103221  | 0.5581369620533245  | 0.631184069498505   | 0.7382312925170067  | 0.8226299694189602  | 0.7749469214437368  |\n",
            "+----------------+---------------------+---------------------+---------------------+---------------------+---------------------+---------------------+---------------------+---------------------+---------------------+---------------------+---------------------+---------------------+---------------------+---------------------+---------------------+---------------------+\n",
            "| Cholesterol(2) | 0.09858226178700959 | 0.12641577358699568 | 0.17249466175240044 | 0.1860963054074985  | 0.1330504624699519  | 0.16918421861333713 | 0.12257397978009002 | 0.11365369946605643 | 0.16287151348879744 | 0.12926934716817984 | 0.23757649115728602 | 0.2766898993251466  | 0.21825463981497153 | 0.16745578231292516 | 0.08868501529051986 | 0.11252653927813164 |\n",
            "+----------------+---------------------+---------------------+---------------------+---------------------+---------------------+---------------------+---------------------+---------------------+---------------------+---------------------+---------------------+---------------------+---------------------+---------------------+---------------------+---------------------+\n",
            "| Cholesterol(3) | 0.07398426828693892 | 0.08454487552269392 | 0.17538277264242555 | 0.16750945287230648 | 0.10585954670771791 | 0.11471999621776235 | 0.04995941258947679 | 0.05873379099923722 | 0.07727480566986741 | 0.07887097770366251 | 0.2472597673323919  | 0.16517313862152894 | 0.15056129068652338 | 0.09431292517006801 | 0.08868501529051986 | 0.11252653927813164 |\n",
            "+----------------+---------------------+---------------------+---------------------+---------------------+---------------------+---------------------+---------------------+---------------------+---------------------+---------------------+---------------------+---------------------+---------------------+---------------------+---------------------+---------------------+ \n",
            "\n",
            "CPT of Gluc:\n",
            "+---------+---------------------+---------------------+---------------------+---------------------+---------------------+---------------------+---------------------+----------------------+----------------------+---------------------+--------------------+---------------------+---------------------+---------------------+----------------------+---------------------+\n",
            "| Alco    | Alco(0)             | Alco(0)             | Alco(0)             | Alco(0)             | Alco(0)             | Alco(0)             | Alco(0)             | Alco(0)              | Alco(1)              | Alco(1)             | Alco(1)            | Alco(1)             | Alco(1)             | Alco(1)             | Alco(1)              | Alco(1)             |\n",
            "+---------+---------------------+---------------------+---------------------+---------------------+---------------------+---------------------+---------------------+----------------------+----------------------+---------------------+--------------------+---------------------+---------------------+---------------------+----------------------+---------------------+\n",
            "| BMI     | BMI(normal weight)  | BMI(normal weight)  | BMI(obese)          | BMI(obese)          | BMI(overweight)     | BMI(overweight)     | BMI(underweight)    | BMI(underweight)     | BMI(normal weight)   | BMI(normal weight)  | BMI(obese)         | BMI(obese)          | BMI(overweight)     | BMI(overweight)     | BMI(underweight)     | BMI(underweight)    |\n",
            "+---------+---------------------+---------------------+---------------------+---------------------+---------------------+---------------------+---------------------+----------------------+----------------------+---------------------+--------------------+---------------------+---------------------+---------------------+----------------------+---------------------+\n",
            "| Smoke   | Smoke(0)            | Smoke(1)            | Smoke(0)            | Smoke(1)            | Smoke(0)            | Smoke(1)            | Smoke(0)            | Smoke(1)             | Smoke(0)             | Smoke(1)            | Smoke(0)           | Smoke(1)            | Smoke(0)            | Smoke(1)            | Smoke(0)             | Smoke(1)            |\n",
            "+---------+---------------------+---------------------+---------------------+---------------------+---------------------+---------------------+---------------------+----------------------+----------------------+---------------------+--------------------+---------------------+---------------------+---------------------+----------------------+---------------------+\n",
            "| Gluc(1) | 0.8927718901606143  | 0.8893965827587162  | 0.7879309428058893  | 0.7819689308004191  | 0.8610695755649601  | 0.8465829846582985  | 0.9000811748210464  | 0.9191456903127383   | 0.8981252857796068   | 0.9148909888209498  | 0.7136709030999933 | 0.7307224250470186  | 0.7963558413719185  | 0.8636190476190475  | 0.8960244648318042   | 0.8768577494692146  |\n",
            "+---------+---------------------+---------------------+---------------------+---------------------+---------------------+---------------------+---------------------+----------------------+----------------------+---------------------+--------------------+---------------------+---------------------+---------------------+----------------------+---------------------+\n",
            "| Gluc(2) | 0.04590457350101268 | 0.05928941319819446 | 0.10862039532417084 | 0.11830896086738643 | 0.06679467584801485 | 0.08748788501997495 | 0.06767028263596783 | 0.05873379099923722  | 0.061911294010059445 | 0.04181335309739978 | 0.1665657992065093 | 0.17579378249806396 | 0.1234839510351441  | 0.09039455782312923 | 0.08868501529051986  | 0.11252653927813167 |\n",
            "+---------+---------------------+---------------------+---------------------+---------------------+---------------------+---------------------+---------------------+----------------------+----------------------+---------------------+--------------------+---------------------+---------------------+---------------------+----------------------+---------------------+\n",
            "| Gluc(3) | 0.06132353633837314 | 0.05131400404308937 | 0.10344866186993984 | 0.09972210833219441 | 0.0721357485870251  | 0.06592913032172659 | 0.03224854254298576 | 0.022120518688024404 | 0.03996342021033379  | 0.04329565808165029 | 0.1197632976934974 | 0.0934837924549176  | 0.08016020759293732 | 0.04598639455782313 | 0.015290519877675839 | 0.01061571125265393 |\n",
            "+---------+---------------------+---------------------+---------------------+---------------------+---------------------+---------------------+---------------------+----------------------+----------------------+---------------------+--------------------+---------------------+---------------------+---------------------+----------------------+---------------------+ \n",
            "\n",
            "CPT of Ap_lo:\n",
            "+------------------------------------+-----------------------+-----------------------+----------------------+-----------------------+-----------------------+-----------------------+-----------------------+----------------------+-----------------------+------------------------+------------------------+----------------------+----------------------+----------------------+----------------------+----------------------+\n",
            "| Alco                               | Alco(0)               | Alco(0)               | Alco(0)              | Alco(0)               | Alco(0)               | Alco(0)               | Alco(0)               | Alco(0)              | Alco(1)               | Alco(1)                | Alco(1)                | Alco(1)              | Alco(1)              | Alco(1)              | Alco(1)              | Alco(1)              |\n",
            "+------------------------------------+-----------------------+-----------------------+----------------------+-----------------------+-----------------------+-----------------------+-----------------------+----------------------+-----------------------+------------------------+------------------------+----------------------+----------------------+----------------------+----------------------+----------------------+\n",
            "| BMI                                | BMI(normal weight)    | BMI(normal weight)    | BMI(obese)           | BMI(obese)            | BMI(overweight)       | BMI(overweight)       | BMI(underweight)      | BMI(underweight)     | BMI(normal weight)    | BMI(normal weight)     | BMI(obese)             | BMI(obese)           | BMI(overweight)      | BMI(overweight)      | BMI(underweight)     | BMI(underweight)     |\n",
            "+------------------------------------+-----------------------+-----------------------+----------------------+-----------------------+-----------------------+-----------------------+-----------------------+----------------------+-----------------------+------------------------+------------------------+----------------------+----------------------+----------------------+----------------------+----------------------+\n",
            "| Smoke                              | Smoke(0)              | Smoke(1)              | Smoke(0)             | Smoke(1)              | Smoke(0)              | Smoke(1)              | Smoke(0)              | Smoke(1)             | Smoke(0)              | Smoke(1)               | Smoke(0)               | Smoke(1)             | Smoke(0)             | Smoke(1)             | Smoke(0)             | Smoke(1)             |\n",
            "+------------------------------------+-----------------------+-----------------------+----------------------+-----------------------+-----------------------+-----------------------+-----------------------+----------------------+-----------------------+------------------------+------------------------+----------------------+----------------------+----------------------+----------------------+----------------------+\n",
            "| Ap_lo(hight_blood_pressure_stage1) | 0.5633243914271853    | 0.5163641710780607    | 0.4539036580636822   | 0.44114086312491096   | 0.5272886187758492    | 0.5088711425887115    | 0.42658862876254183   | 0.33237986270022885  | 0.4805750350631136    | 0.5043046357615895     | 0.3857636706473916     | 0.4211928497765555   | 0.45386154113758914  | 0.501127066288195    | 0.3292079207920792   | 0.46656050955414013  |\n",
            "+------------------------------------+-----------------------+-----------------------+----------------------+-----------------------+-----------------------+-----------------------+-----------------------+----------------------+-----------------------+------------------------+------------------------+----------------------+----------------------+----------------------+----------------------+----------------------+\n",
            "| Ap_lo(hight_blood_pressure_stage2) | 0.0009203504466196741 | 0.0007772456096126376 | 0.003044077728467405 | 0.0035963537957555904 | 0.0018925683372896288 | 0.0006684975066849751 | 0.0002787068004459309 | 0.002860411899313501 | 0.0003506311360448808 | 0.00023651844843897824 | 0.00026188979677351773 | 0.008679958748710897 | 0.003000521829883458 | 0.001544498246785774 | 0.012376237623762377 | 0.007961783439490446 |\n",
            "+------------------------------------+-----------------------+-----------------------+----------------------+-----------------------+-----------------------+-----------------------+-----------------------+----------------------+-----------------------+------------------------+------------------------+----------------------+----------------------+----------------------+----------------------+----------------------+\n",
            "| Ap_lo(hypertensive crisis)         | 0.17105248137895607   | 0.21050752037643897   | 0.4028200267137748   | 0.44797749608317905   | 0.2757018917265723    | 0.3146093806460938    | 0.1108695652173913    | 0.13100686498855835  | 0.22924263674614306   | 0.23940397350993378    | 0.47124450031426773    | 0.47894465452045376  | 0.35088711080187857  | 0.3581983636667223   | 0.1707920792079208   | 0.21178343949044587  |\n",
            "+------------------------------------+-----------------------+-----------------------+----------------------+-----------------------+-----------------------+-----------------------+-----------------------+----------------------+-----------------------+------------------------+------------------------+----------------------+----------------------+----------------------+----------------------+----------------------+\n",
            "| Ap_lo(normal)                      | 0.26470277674723897   | 0.27235106293588773   | 0.14023223749407557  | 0.10728528699615439   | 0.1951169211602889    | 0.1758509792585098    | 0.46226309921962094   | 0.5337528604118993   | 0.28983169705469847   | 0.25605487228003787    | 0.14272993924156716    | 0.09118253695427982  | 0.19225082623064882  | 0.13913007179829687  | 0.4876237623762376   | 0.31369426751592355  |\n",
            "+------------------------------------+-----------------------+-----------------------+----------------------+-----------------------+-----------------------+-----------------------+-----------------------+----------------------+-----------------------+------------------------+------------------------+----------------------+----------------------+----------------------+----------------------+----------------------+ \n",
            "\n",
            "CPT of Ap_hi:\n",
            "+------------------------------------+----------------------+-----------------------+-----------------------+-----------------------+------------------------+-----------------------+------------------------+----------------------+------------------------+------------------------+-----------------------+-----------------------+-----------------------+----------------------+----------------------+----------------------+\n",
            "| Alco                               | Alco(0)              | Alco(0)               | Alco(0)               | Alco(0)               | Alco(0)                | Alco(0)               | Alco(0)                | Alco(0)              | Alco(1)                | Alco(1)                | Alco(1)               | Alco(1)               | Alco(1)               | Alco(1)              | Alco(1)              | Alco(1)              |\n",
            "+------------------------------------+----------------------+-----------------------+-----------------------+-----------------------+------------------------+-----------------------+------------------------+----------------------+------------------------+------------------------+-----------------------+-----------------------+-----------------------+----------------------+----------------------+----------------------+\n",
            "| BMI                                | BMI(normal weight)   | BMI(normal weight)    | BMI(obese)            | BMI(obese)            | BMI(overweight)        | BMI(overweight)       | BMI(underweight)       | BMI(underweight)     | BMI(normal weight)     | BMI(normal weight)     | BMI(obese)            | BMI(obese)            | BMI(overweight)       | BMI(overweight)      | BMI(underweight)     | BMI(underweight)     |\n",
            "+------------------------------------+----------------------+-----------------------+-----------------------+-----------------------+------------------------+-----------------------+------------------------+----------------------+------------------------+------------------------+-----------------------+-----------------------+-----------------------+----------------------+----------------------+----------------------+\n",
            "| Smoke                              | Smoke(0)             | Smoke(1)              | Smoke(0)              | Smoke(1)              | Smoke(0)               | Smoke(1)              | Smoke(0)               | Smoke(1)             | Smoke(0)               | Smoke(1)               | Smoke(0)              | Smoke(1)              | Smoke(0)              | Smoke(1)             | Smoke(0)             | Smoke(1)             |\n",
            "+------------------------------------+----------------------+-----------------------+-----------------------+-----------------------+------------------------+-----------------------+------------------------+----------------------+------------------------+------------------------+-----------------------+-----------------------+-----------------------+----------------------+----------------------+----------------------+\n",
            "| Ap_hi(elevated)                    | 0.5024966265650176   | 0.4053007993268826    | 0.3021126942670218    | 0.28938040550120514   | 0.42071737613398463    | 0.3903581465734669    | 0.3486709850346214     | 0.2768878718535469   | 0.41784037558685444    | 0.4432096440007534     | 0.243332644200951     | 0.2761116856256463    | 0.3405985123681024    | 0.394222741693104    | 0.16831683168316833  | 0.3630573248407643   |\n",
            "+------------------------------------+----------------------+-----------------------+-----------------------+-----------------------+------------------------+-----------------------+------------------------+----------------------+------------------------+------------------------+-----------------------+-----------------------+-----------------------+----------------------+----------------------+----------------------+\n",
            "| Ap_hi(hight_blood_pressure_stage1) | 0.09133041443431623  | 0.129322675641565     | 0.17764388473705534   | 0.17255068765064513   | 0.13725052337752966    | 0.16552568999063197   | 0.06633906633906633    | 0.057208237986270026 | 0.13062689864678265    | 0.11772461857223583    | 0.20198470126111226   | 0.182350913478111     | 0.16485037190797439   | 0.18584070796460178  | 0.16831683168316833  | 0.10828025477707007  |\n",
            "+------------------------------------+----------------------+-----------------------+-----------------------+-----------------------+------------------------+-----------------------+------------------------+----------------------+------------------------+------------------------+-----------------------+-----------------------+-----------------------+----------------------+----------------------+----------------------+\n",
            "| Ap_hi(hight_blood_pressure_stage2) | 5.69356115169355e-06 | 8.413967185527976e-05 | 0.0002154930912914932 | 0.0001417836381681554 | 0.00013956734124214934 | 0.0012250486416372415 | 0.00022336385972749609 | 0.002288329519450801 | 0.00027616680475006904 | 0.00018835938971557733 | 0.0002067397146991937 | 0.0003447087211306446 | 0.0015568240788790867 | 0.001502755050926699 | 0.009900990099009901 | 0.006369426751592357 |\n",
            "+------------------------------------+----------------------+-----------------------+-----------------------+-----------------------+------------------------+-----------------------+------------------------+----------------------+------------------------+------------------------+-----------------------+-----------------------+-----------------------+----------------------+----------------------+----------------------+\n",
            "| Ap_hi(hypertensive crisis)         | 0.16297818796722785  | 0.19528817837610432   | 0.390516580038444     | 0.4402381965121225    | 0.2626154919748779     | 0.2952367226345752    | 0.11279874916238553    | 0.14874141876430205  | 0.188069594034797      | 0.21717837634206066    | 0.40872441596030595   | 0.4250258531540848    | 0.3060024217263449    | 0.3047253297712473   | 0.0891089108910891   | 0.21019108280254778  |\n",
            "+------------------------------------+----------------------+-----------------------+-----------------------+-----------------------+------------------------+-----------------------+------------------------+----------------------+------------------------+------------------------+-----------------------+-----------------------+-----------------------+----------------------+----------------------+----------------------+\n",
            "| Ap_hi(normal)                      | 0.2431890774722866   | 0.2700042069835928    | 0.1295113478661874    | 0.09768892669785907   | 0.17927704117236568    | 0.1476543921596887    | 0.47196783560419925    | 0.5148741418764302   | 0.2631869649268158     | 0.22169900169523452    | 0.14575149886293157   | 0.11616683902102723   | 0.18699186991869918   | 0.11370846552012022  | 0.5643564356435643   | 0.31210191082802546  |\n",
            "+------------------------------------+----------------------+-----------------------+-----------------------+-----------------------+------------------------+-----------------------+------------------------+----------------------+------------------------+------------------------+-----------------------+-----------------------+-----------------------+----------------------+----------------------+----------------------+ \n",
            "\n",
            "CPT of Smoke:\n",
            "+----------+-----------+\n",
            "| Smoke(0) | 0.911813  |\n",
            "+----------+-----------+\n",
            "| Smoke(1) | 0.0881874 |\n",
            "+----------+-----------+ \n",
            "\n",
            "CPT of Alco:\n",
            "+---------+-----------+\n",
            "| Alco(0) | 0.946165  |\n",
            "+---------+-----------+\n",
            "| Alco(1) | 0.0538352 |\n",
            "+---------+-----------+ \n",
            "\n",
            "CPT of Cardio:\n",
            "+-------------+------------------------------------+------------------------------------+------------------------------------+------------------------------------+------------------------------------+------------------------------------+------------------------------------+------------------------------------+------------------------------------+------------------------------------+------------------------------------+------------------------------------+------------------------------------+------------------------------------+------------------------------------+------------------------------------+------------------------------------+------------------------------------+----------------------------+----------------------------+----------------------------+----------------------------+----------------------------+----------------------------+----------------------------+----------------------------+----------------------------+---------------------+---------------------+---------------------+---------------------+---------------------+---------------------+---------------------+----------------------+--------------------+------------------------------------+------------------------------------+------------------------------------+------------------------------------+------------------------------------+------------------------------------+------------------------------------+------------------------------------+------------------------------------+------------------------------------+------------------------------------+------------------------------------+------------------------------------+------------------------------------+------------------------------------+------------------------------------+------------------------------------+------------------------------------+------------------------------------+------------------------------------+------------------------------------+------------------------------------+------------------------------------+------------------------------------+------------------------------------+------------------------------------+------------------------------------+------------------------------------+------------------------------------+------------------------------------+------------------------------------+------------------------------------+------------------------------------+------------------------------------+------------------------------------+------------------------------------+------------------------------------+------------------------------------+------------------------------------+------------------------------------+------------------------------------+------------------------------------+------------------------------------+------------------------------------+------------------------------------+------------------------------------+------------------------------------+------------------------------------+------------------------------------+------------------------------------+------------------------------------+------------------------------------+------------------------------------+------------------------------------+------------------------------------+------------------------------------+------------------------------------+------------------------------------+------------------------------------+------------------------------------+------------------------------------+------------------------------------+------------------------------------+------------------------------------+------------------------------------+------------------------------------+------------------------------------+------------------------------------+------------------------------------+------------------------------------+------------------------------------+------------------------------------+------------------------------------+------------------------------------+------------------------------------+------------------------------------+------------------------------------+------------------------------------+------------------------------------+------------------------------------+------------------------------------+------------------------------------+------------------------------------+------------------------------------+------------------------------------+------------------------------------+------------------------------------+------------------------------------+------------------------------------+------------------------------------+----------------------------+----------------------------+----------------------------+----------------------------+----------------------------+----------------------------+----------------------------+----------------------------+----------------------------+----------------------------+----------------------------+----------------------------+----------------------------+----------------------------+----------------------------+----------------------------+----------------------------+----------------------------+------------------------------------+------------------------------------+------------------------------------+------------------------------------+------------------------------------+------------------------------------+------------------------------------+------------------------------------+------------------------------------+------------------------------------+------------------------------------+------------------------------------+------------------------------------+------------------------------------+------------------------------------+------------------------------------+------------------------------------+------------------------------------+----------------------------+----------------------------+----------------------------+----------------------------+----------------------------+----------------------------+----------------------------+----------------------------+----------------------------+---------------------+--------------------+---------------------+--------------------+---------------------+--------------------+---------------------+---------------------+-------------------+\n",
            "| Ap_hi       | Ap_hi(elevated)                    | Ap_hi(elevated)                    | Ap_hi(elevated)                    | Ap_hi(elevated)                    | Ap_hi(elevated)                    | Ap_hi(elevated)                    | Ap_hi(elevated)                    | Ap_hi(elevated)                    | Ap_hi(elevated)                    | Ap_hi(elevated)                    | Ap_hi(elevated)                    | Ap_hi(elevated)                    | Ap_hi(elevated)                    | Ap_hi(elevated)                    | Ap_hi(elevated)                    | Ap_hi(elevated)                    | Ap_hi(elevated)                    | Ap_hi(elevated)                    | Ap_hi(elevated)            | Ap_hi(elevated)            | Ap_hi(elevated)            | Ap_hi(elevated)            | Ap_hi(elevated)            | Ap_hi(elevated)            | Ap_hi(elevated)            | Ap_hi(elevated)            | Ap_hi(elevated)            | Ap_hi(elevated)     | Ap_hi(elevated)     | Ap_hi(elevated)     | Ap_hi(elevated)     | Ap_hi(elevated)     | Ap_hi(elevated)     | Ap_hi(elevated)     | Ap_hi(elevated)      | Ap_hi(elevated)    | Ap_hi(hight_blood_pressure_stage1) | Ap_hi(hight_blood_pressure_stage1) | Ap_hi(hight_blood_pressure_stage1) | Ap_hi(hight_blood_pressure_stage1) | Ap_hi(hight_blood_pressure_stage1) | Ap_hi(hight_blood_pressure_stage1) | Ap_hi(hight_blood_pressure_stage1) | Ap_hi(hight_blood_pressure_stage1) | Ap_hi(hight_blood_pressure_stage1) | Ap_hi(hight_blood_pressure_stage1) | Ap_hi(hight_blood_pressure_stage1) | Ap_hi(hight_blood_pressure_stage1) | Ap_hi(hight_blood_pressure_stage1) | Ap_hi(hight_blood_pressure_stage1) | Ap_hi(hight_blood_pressure_stage1) | Ap_hi(hight_blood_pressure_stage1) | Ap_hi(hight_blood_pressure_stage1) | Ap_hi(hight_blood_pressure_stage1) | Ap_hi(hight_blood_pressure_stage1) | Ap_hi(hight_blood_pressure_stage1) | Ap_hi(hight_blood_pressure_stage1) | Ap_hi(hight_blood_pressure_stage1) | Ap_hi(hight_blood_pressure_stage1) | Ap_hi(hight_blood_pressure_stage1) | Ap_hi(hight_blood_pressure_stage1) | Ap_hi(hight_blood_pressure_stage1) | Ap_hi(hight_blood_pressure_stage1) | Ap_hi(hight_blood_pressure_stage1) | Ap_hi(hight_blood_pressure_stage1) | Ap_hi(hight_blood_pressure_stage1) | Ap_hi(hight_blood_pressure_stage1) | Ap_hi(hight_blood_pressure_stage1) | Ap_hi(hight_blood_pressure_stage1) | Ap_hi(hight_blood_pressure_stage1) | Ap_hi(hight_blood_pressure_stage1) | Ap_hi(hight_blood_pressure_stage1) | Ap_hi(hight_blood_pressure_stage2) | Ap_hi(hight_blood_pressure_stage2) | Ap_hi(hight_blood_pressure_stage2) | Ap_hi(hight_blood_pressure_stage2) | Ap_hi(hight_blood_pressure_stage2) | Ap_hi(hight_blood_pressure_stage2) | Ap_hi(hight_blood_pressure_stage2) | Ap_hi(hight_blood_pressure_stage2) | Ap_hi(hight_blood_pressure_stage2) | Ap_hi(hight_blood_pressure_stage2) | Ap_hi(hight_blood_pressure_stage2) | Ap_hi(hight_blood_pressure_stage2) | Ap_hi(hight_blood_pressure_stage2) | Ap_hi(hight_blood_pressure_stage2) | Ap_hi(hight_blood_pressure_stage2) | Ap_hi(hight_blood_pressure_stage2) | Ap_hi(hight_blood_pressure_stage2) | Ap_hi(hight_blood_pressure_stage2) | Ap_hi(hight_blood_pressure_stage2) | Ap_hi(hight_blood_pressure_stage2) | Ap_hi(hight_blood_pressure_stage2) | Ap_hi(hight_blood_pressure_stage2) | Ap_hi(hight_blood_pressure_stage2) | Ap_hi(hight_blood_pressure_stage2) | Ap_hi(hight_blood_pressure_stage2) | Ap_hi(hight_blood_pressure_stage2) | Ap_hi(hight_blood_pressure_stage2) | Ap_hi(hight_blood_pressure_stage2) | Ap_hi(hight_blood_pressure_stage2) | Ap_hi(hight_blood_pressure_stage2) | Ap_hi(hight_blood_pressure_stage2) | Ap_hi(hight_blood_pressure_stage2) | Ap_hi(hight_blood_pressure_stage2) | Ap_hi(hight_blood_pressure_stage2) | Ap_hi(hight_blood_pressure_stage2) | Ap_hi(hight_blood_pressure_stage2) | Ap_hi(hypertensive crisis)         | Ap_hi(hypertensive crisis)         | Ap_hi(hypertensive crisis)         | Ap_hi(hypertensive crisis)         | Ap_hi(hypertensive crisis)         | Ap_hi(hypertensive crisis)         | Ap_hi(hypertensive crisis)         | Ap_hi(hypertensive crisis)         | Ap_hi(hypertensive crisis)         | Ap_hi(hypertensive crisis)         | Ap_hi(hypertensive crisis)         | Ap_hi(hypertensive crisis)         | Ap_hi(hypertensive crisis)         | Ap_hi(hypertensive crisis)         | Ap_hi(hypertensive crisis)         | Ap_hi(hypertensive crisis)         | Ap_hi(hypertensive crisis)         | Ap_hi(hypertensive crisis)         | Ap_hi(hypertensive crisis) | Ap_hi(hypertensive crisis) | Ap_hi(hypertensive crisis) | Ap_hi(hypertensive crisis) | Ap_hi(hypertensive crisis) | Ap_hi(hypertensive crisis) | Ap_hi(hypertensive crisis) | Ap_hi(hypertensive crisis) | Ap_hi(hypertensive crisis) | Ap_hi(hypertensive crisis) | Ap_hi(hypertensive crisis) | Ap_hi(hypertensive crisis) | Ap_hi(hypertensive crisis) | Ap_hi(hypertensive crisis) | Ap_hi(hypertensive crisis) | Ap_hi(hypertensive crisis) | Ap_hi(hypertensive crisis) | Ap_hi(hypertensive crisis) | Ap_hi(normal)                      | Ap_hi(normal)                      | Ap_hi(normal)                      | Ap_hi(normal)                      | Ap_hi(normal)                      | Ap_hi(normal)                      | Ap_hi(normal)                      | Ap_hi(normal)                      | Ap_hi(normal)                      | Ap_hi(normal)                      | Ap_hi(normal)                      | Ap_hi(normal)                      | Ap_hi(normal)                      | Ap_hi(normal)                      | Ap_hi(normal)                      | Ap_hi(normal)                      | Ap_hi(normal)                      | Ap_hi(normal)                      | Ap_hi(normal)              | Ap_hi(normal)              | Ap_hi(normal)              | Ap_hi(normal)              | Ap_hi(normal)              | Ap_hi(normal)              | Ap_hi(normal)              | Ap_hi(normal)              | Ap_hi(normal)              | Ap_hi(normal)       | Ap_hi(normal)      | Ap_hi(normal)       | Ap_hi(normal)      | Ap_hi(normal)       | Ap_hi(normal)      | Ap_hi(normal)       | Ap_hi(normal)       | Ap_hi(normal)     |\n",
            "+-------------+------------------------------------+------------------------------------+------------------------------------+------------------------------------+------------------------------------+------------------------------------+------------------------------------+------------------------------------+------------------------------------+------------------------------------+------------------------------------+------------------------------------+------------------------------------+------------------------------------+------------------------------------+------------------------------------+------------------------------------+------------------------------------+----------------------------+----------------------------+----------------------------+----------------------------+----------------------------+----------------------------+----------------------------+----------------------------+----------------------------+---------------------+---------------------+---------------------+---------------------+---------------------+---------------------+---------------------+----------------------+--------------------+------------------------------------+------------------------------------+------------------------------------+------------------------------------+------------------------------------+------------------------------------+------------------------------------+------------------------------------+------------------------------------+------------------------------------+------------------------------------+------------------------------------+------------------------------------+------------------------------------+------------------------------------+------------------------------------+------------------------------------+------------------------------------+------------------------------------+------------------------------------+------------------------------------+------------------------------------+------------------------------------+------------------------------------+------------------------------------+------------------------------------+------------------------------------+------------------------------------+------------------------------------+------------------------------------+------------------------------------+------------------------------------+------------------------------------+------------------------------------+------------------------------------+------------------------------------+------------------------------------+------------------------------------+------------------------------------+------------------------------------+------------------------------------+------------------------------------+------------------------------------+------------------------------------+------------------------------------+------------------------------------+------------------------------------+------------------------------------+------------------------------------+------------------------------------+------------------------------------+------------------------------------+------------------------------------+------------------------------------+------------------------------------+------------------------------------+------------------------------------+------------------------------------+------------------------------------+------------------------------------+------------------------------------+------------------------------------+------------------------------------+------------------------------------+------------------------------------+------------------------------------+------------------------------------+------------------------------------+------------------------------------+------------------------------------+------------------------------------+------------------------------------+------------------------------------+------------------------------------+------------------------------------+------------------------------------+------------------------------------+------------------------------------+------------------------------------+------------------------------------+------------------------------------+------------------------------------+------------------------------------+------------------------------------+------------------------------------+------------------------------------+------------------------------------+------------------------------------+------------------------------------+------------------------------------+----------------------------+----------------------------+----------------------------+----------------------------+----------------------------+----------------------------+----------------------------+----------------------------+----------------------------+----------------------------+----------------------------+----------------------------+----------------------------+----------------------------+----------------------------+----------------------------+----------------------------+----------------------------+------------------------------------+------------------------------------+------------------------------------+------------------------------------+------------------------------------+------------------------------------+------------------------------------+------------------------------------+------------------------------------+------------------------------------+------------------------------------+------------------------------------+------------------------------------+------------------------------------+------------------------------------+------------------------------------+------------------------------------+------------------------------------+----------------------------+----------------------------+----------------------------+----------------------------+----------------------------+----------------------------+----------------------------+----------------------------+----------------------------+---------------------+--------------------+---------------------+--------------------+---------------------+--------------------+---------------------+---------------------+-------------------+\n",
            "| Ap_lo       | Ap_lo(hight_blood_pressure_stage1) | Ap_lo(hight_blood_pressure_stage1) | Ap_lo(hight_blood_pressure_stage1) | Ap_lo(hight_blood_pressure_stage1) | Ap_lo(hight_blood_pressure_stage1) | Ap_lo(hight_blood_pressure_stage1) | Ap_lo(hight_blood_pressure_stage1) | Ap_lo(hight_blood_pressure_stage1) | Ap_lo(hight_blood_pressure_stage1) | Ap_lo(hight_blood_pressure_stage2) | Ap_lo(hight_blood_pressure_stage2) | Ap_lo(hight_blood_pressure_stage2) | Ap_lo(hight_blood_pressure_stage2) | Ap_lo(hight_blood_pressure_stage2) | Ap_lo(hight_blood_pressure_stage2) | Ap_lo(hight_blood_pressure_stage2) | Ap_lo(hight_blood_pressure_stage2) | Ap_lo(hight_blood_pressure_stage2) | Ap_lo(hypertensive crisis) | Ap_lo(hypertensive crisis) | Ap_lo(hypertensive crisis) | Ap_lo(hypertensive crisis) | Ap_lo(hypertensive crisis) | Ap_lo(hypertensive crisis) | Ap_lo(hypertensive crisis) | Ap_lo(hypertensive crisis) | Ap_lo(hypertensive crisis) | Ap_lo(normal)       | Ap_lo(normal)       | Ap_lo(normal)       | Ap_lo(normal)       | Ap_lo(normal)       | Ap_lo(normal)       | Ap_lo(normal)       | Ap_lo(normal)        | Ap_lo(normal)      | Ap_lo(hight_blood_pressure_stage1) | Ap_lo(hight_blood_pressure_stage1) | Ap_lo(hight_blood_pressure_stage1) | Ap_lo(hight_blood_pressure_stage1) | Ap_lo(hight_blood_pressure_stage1) | Ap_lo(hight_blood_pressure_stage1) | Ap_lo(hight_blood_pressure_stage1) | Ap_lo(hight_blood_pressure_stage1) | Ap_lo(hight_blood_pressure_stage1) | Ap_lo(hight_blood_pressure_stage2) | Ap_lo(hight_blood_pressure_stage2) | Ap_lo(hight_blood_pressure_stage2) | Ap_lo(hight_blood_pressure_stage2) | Ap_lo(hight_blood_pressure_stage2) | Ap_lo(hight_blood_pressure_stage2) | Ap_lo(hight_blood_pressure_stage2) | Ap_lo(hight_blood_pressure_stage2) | Ap_lo(hight_blood_pressure_stage2) | Ap_lo(hypertensive crisis)         | Ap_lo(hypertensive crisis)         | Ap_lo(hypertensive crisis)         | Ap_lo(hypertensive crisis)         | Ap_lo(hypertensive crisis)         | Ap_lo(hypertensive crisis)         | Ap_lo(hypertensive crisis)         | Ap_lo(hypertensive crisis)         | Ap_lo(hypertensive crisis)         | Ap_lo(normal)                      | Ap_lo(normal)                      | Ap_lo(normal)                      | Ap_lo(normal)                      | Ap_lo(normal)                      | Ap_lo(normal)                      | Ap_lo(normal)                      | Ap_lo(normal)                      | Ap_lo(normal)                      | Ap_lo(hight_blood_pressure_stage1) | Ap_lo(hight_blood_pressure_stage1) | Ap_lo(hight_blood_pressure_stage1) | Ap_lo(hight_blood_pressure_stage1) | Ap_lo(hight_blood_pressure_stage1) | Ap_lo(hight_blood_pressure_stage1) | Ap_lo(hight_blood_pressure_stage1) | Ap_lo(hight_blood_pressure_stage1) | Ap_lo(hight_blood_pressure_stage1) | Ap_lo(hight_blood_pressure_stage2) | Ap_lo(hight_blood_pressure_stage2) | Ap_lo(hight_blood_pressure_stage2) | Ap_lo(hight_blood_pressure_stage2) | Ap_lo(hight_blood_pressure_stage2) | Ap_lo(hight_blood_pressure_stage2) | Ap_lo(hight_blood_pressure_stage2) | Ap_lo(hight_blood_pressure_stage2) | Ap_lo(hight_blood_pressure_stage2) | Ap_lo(hypertensive crisis)         | Ap_lo(hypertensive crisis)         | Ap_lo(hypertensive crisis)         | Ap_lo(hypertensive crisis)         | Ap_lo(hypertensive crisis)         | Ap_lo(hypertensive crisis)         | Ap_lo(hypertensive crisis)         | Ap_lo(hypertensive crisis)         | Ap_lo(hypertensive crisis)         | Ap_lo(normal)                      | Ap_lo(normal)                      | Ap_lo(normal)                      | Ap_lo(normal)                      | Ap_lo(normal)                      | Ap_lo(normal)                      | Ap_lo(normal)                      | Ap_lo(normal)                      | Ap_lo(normal)                      | Ap_lo(hight_blood_pressure_stage1) | Ap_lo(hight_blood_pressure_stage1) | Ap_lo(hight_blood_pressure_stage1) | Ap_lo(hight_blood_pressure_stage1) | Ap_lo(hight_blood_pressure_stage1) | Ap_lo(hight_blood_pressure_stage1) | Ap_lo(hight_blood_pressure_stage1) | Ap_lo(hight_blood_pressure_stage1) | Ap_lo(hight_blood_pressure_stage1) | Ap_lo(hight_blood_pressure_stage2) | Ap_lo(hight_blood_pressure_stage2) | Ap_lo(hight_blood_pressure_stage2) | Ap_lo(hight_blood_pressure_stage2) | Ap_lo(hight_blood_pressure_stage2) | Ap_lo(hight_blood_pressure_stage2) | Ap_lo(hight_blood_pressure_stage2) | Ap_lo(hight_blood_pressure_stage2) | Ap_lo(hight_blood_pressure_stage2) | Ap_lo(hypertensive crisis) | Ap_lo(hypertensive crisis) | Ap_lo(hypertensive crisis) | Ap_lo(hypertensive crisis) | Ap_lo(hypertensive crisis) | Ap_lo(hypertensive crisis) | Ap_lo(hypertensive crisis) | Ap_lo(hypertensive crisis) | Ap_lo(hypertensive crisis) | Ap_lo(normal)              | Ap_lo(normal)              | Ap_lo(normal)              | Ap_lo(normal)              | Ap_lo(normal)              | Ap_lo(normal)              | Ap_lo(normal)              | Ap_lo(normal)              | Ap_lo(normal)              | Ap_lo(hight_blood_pressure_stage1) | Ap_lo(hight_blood_pressure_stage1) | Ap_lo(hight_blood_pressure_stage1) | Ap_lo(hight_blood_pressure_stage1) | Ap_lo(hight_blood_pressure_stage1) | Ap_lo(hight_blood_pressure_stage1) | Ap_lo(hight_blood_pressure_stage1) | Ap_lo(hight_blood_pressure_stage1) | Ap_lo(hight_blood_pressure_stage1) | Ap_lo(hight_blood_pressure_stage2) | Ap_lo(hight_blood_pressure_stage2) | Ap_lo(hight_blood_pressure_stage2) | Ap_lo(hight_blood_pressure_stage2) | Ap_lo(hight_blood_pressure_stage2) | Ap_lo(hight_blood_pressure_stage2) | Ap_lo(hight_blood_pressure_stage2) | Ap_lo(hight_blood_pressure_stage2) | Ap_lo(hight_blood_pressure_stage2) | Ap_lo(hypertensive crisis) | Ap_lo(hypertensive crisis) | Ap_lo(hypertensive crisis) | Ap_lo(hypertensive crisis) | Ap_lo(hypertensive crisis) | Ap_lo(hypertensive crisis) | Ap_lo(hypertensive crisis) | Ap_lo(hypertensive crisis) | Ap_lo(hypertensive crisis) | Ap_lo(normal)       | Ap_lo(normal)      | Ap_lo(normal)       | Ap_lo(normal)      | Ap_lo(normal)       | Ap_lo(normal)      | Ap_lo(normal)       | Ap_lo(normal)       | Ap_lo(normal)     |\n",
            "+-------------+------------------------------------+------------------------------------+------------------------------------+------------------------------------+------------------------------------+------------------------------------+------------------------------------+------------------------------------+------------------------------------+------------------------------------+------------------------------------+------------------------------------+------------------------------------+------------------------------------+------------------------------------+------------------------------------+------------------------------------+------------------------------------+----------------------------+----------------------------+----------------------------+----------------------------+----------------------------+----------------------------+----------------------------+----------------------------+----------------------------+---------------------+---------------------+---------------------+---------------------+---------------------+---------------------+---------------------+----------------------+--------------------+------------------------------------+------------------------------------+------------------------------------+------------------------------------+------------------------------------+------------------------------------+------------------------------------+------------------------------------+------------------------------------+------------------------------------+------------------------------------+------------------------------------+------------------------------------+------------------------------------+------------------------------------+------------------------------------+------------------------------------+------------------------------------+------------------------------------+------------------------------------+------------------------------------+------------------------------------+------------------------------------+------------------------------------+------------------------------------+------------------------------------+------------------------------------+------------------------------------+------------------------------------+------------------------------------+------------------------------------+------------------------------------+------------------------------------+------------------------------------+------------------------------------+------------------------------------+------------------------------------+------------------------------------+------------------------------------+------------------------------------+------------------------------------+------------------------------------+------------------------------------+------------------------------------+------------------------------------+------------------------------------+------------------------------------+------------------------------------+------------------------------------+------------------------------------+------------------------------------+------------------------------------+------------------------------------+------------------------------------+------------------------------------+------------------------------------+------------------------------------+------------------------------------+------------------------------------+------------------------------------+------------------------------------+------------------------------------+------------------------------------+------------------------------------+------------------------------------+------------------------------------+------------------------------------+------------------------------------+------------------------------------+------------------------------------+------------------------------------+------------------------------------+------------------------------------+------------------------------------+------------------------------------+------------------------------------+------------------------------------+------------------------------------+------------------------------------+------------------------------------+------------------------------------+------------------------------------+------------------------------------+------------------------------------+------------------------------------+------------------------------------+------------------------------------+------------------------------------+------------------------------------+------------------------------------+----------------------------+----------------------------+----------------------------+----------------------------+----------------------------+----------------------------+----------------------------+----------------------------+----------------------------+----------------------------+----------------------------+----------------------------+----------------------------+----------------------------+----------------------------+----------------------------+----------------------------+----------------------------+------------------------------------+------------------------------------+------------------------------------+------------------------------------+------------------------------------+------------------------------------+------------------------------------+------------------------------------+------------------------------------+------------------------------------+------------------------------------+------------------------------------+------------------------------------+------------------------------------+------------------------------------+------------------------------------+------------------------------------+------------------------------------+----------------------------+----------------------------+----------------------------+----------------------------+----------------------------+----------------------------+----------------------------+----------------------------+----------------------------+---------------------+--------------------+---------------------+--------------------+---------------------+--------------------+---------------------+---------------------+-------------------+\n",
            "| Cholesterol | Cholesterol(1)                     | Cholesterol(1)                     | Cholesterol(1)                     | Cholesterol(2)                     | Cholesterol(2)                     | Cholesterol(2)                     | Cholesterol(3)                     | Cholesterol(3)                     | Cholesterol(3)                     | Cholesterol(1)                     | Cholesterol(1)                     | Cholesterol(1)                     | Cholesterol(2)                     | Cholesterol(2)                     | Cholesterol(2)                     | Cholesterol(3)                     | Cholesterol(3)                     | Cholesterol(3)                     | Cholesterol(1)             | Cholesterol(1)             | Cholesterol(1)             | Cholesterol(2)             | Cholesterol(2)             | Cholesterol(2)             | Cholesterol(3)             | Cholesterol(3)             | Cholesterol(3)             | Cholesterol(1)      | Cholesterol(1)      | Cholesterol(1)      | Cholesterol(2)      | Cholesterol(2)      | Cholesterol(2)      | Cholesterol(3)      | Cholesterol(3)       | Cholesterol(3)     | Cholesterol(1)                     | Cholesterol(1)                     | Cholesterol(1)                     | Cholesterol(2)                     | Cholesterol(2)                     | Cholesterol(2)                     | Cholesterol(3)                     | Cholesterol(3)                     | Cholesterol(3)                     | Cholesterol(1)                     | Cholesterol(1)                     | Cholesterol(1)                     | Cholesterol(2)                     | Cholesterol(2)                     | Cholesterol(2)                     | Cholesterol(3)                     | Cholesterol(3)                     | Cholesterol(3)                     | Cholesterol(1)                     | Cholesterol(1)                     | Cholesterol(1)                     | Cholesterol(2)                     | Cholesterol(2)                     | Cholesterol(2)                     | Cholesterol(3)                     | Cholesterol(3)                     | Cholesterol(3)                     | Cholesterol(1)                     | Cholesterol(1)                     | Cholesterol(1)                     | Cholesterol(2)                     | Cholesterol(2)                     | Cholesterol(2)                     | Cholesterol(3)                     | Cholesterol(3)                     | Cholesterol(3)                     | Cholesterol(1)                     | Cholesterol(1)                     | Cholesterol(1)                     | Cholesterol(2)                     | Cholesterol(2)                     | Cholesterol(2)                     | Cholesterol(3)                     | Cholesterol(3)                     | Cholesterol(3)                     | Cholesterol(1)                     | Cholesterol(1)                     | Cholesterol(1)                     | Cholesterol(2)                     | Cholesterol(2)                     | Cholesterol(2)                     | Cholesterol(3)                     | Cholesterol(3)                     | Cholesterol(3)                     | Cholesterol(1)                     | Cholesterol(1)                     | Cholesterol(1)                     | Cholesterol(2)                     | Cholesterol(2)                     | Cholesterol(2)                     | Cholesterol(3)                     | Cholesterol(3)                     | Cholesterol(3)                     | Cholesterol(1)                     | Cholesterol(1)                     | Cholesterol(1)                     | Cholesterol(2)                     | Cholesterol(2)                     | Cholesterol(2)                     | Cholesterol(3)                     | Cholesterol(3)                     | Cholesterol(3)                     | Cholesterol(1)                     | Cholesterol(1)                     | Cholesterol(1)                     | Cholesterol(2)                     | Cholesterol(2)                     | Cholesterol(2)                     | Cholesterol(3)                     | Cholesterol(3)                     | Cholesterol(3)                     | Cholesterol(1)                     | Cholesterol(1)                     | Cholesterol(1)                     | Cholesterol(2)                     | Cholesterol(2)                     | Cholesterol(2)                     | Cholesterol(3)                     | Cholesterol(3)                     | Cholesterol(3)                     | Cholesterol(1)             | Cholesterol(1)             | Cholesterol(1)             | Cholesterol(2)             | Cholesterol(2)             | Cholesterol(2)             | Cholesterol(3)             | Cholesterol(3)             | Cholesterol(3)             | Cholesterol(1)             | Cholesterol(1)             | Cholesterol(1)             | Cholesterol(2)             | Cholesterol(2)             | Cholesterol(2)             | Cholesterol(3)             | Cholesterol(3)             | Cholesterol(3)             | Cholesterol(1)                     | Cholesterol(1)                     | Cholesterol(1)                     | Cholesterol(2)                     | Cholesterol(2)                     | Cholesterol(2)                     | Cholesterol(3)                     | Cholesterol(3)                     | Cholesterol(3)                     | Cholesterol(1)                     | Cholesterol(1)                     | Cholesterol(1)                     | Cholesterol(2)                     | Cholesterol(2)                     | Cholesterol(2)                     | Cholesterol(3)                     | Cholesterol(3)                     | Cholesterol(3)                     | Cholesterol(1)             | Cholesterol(1)             | Cholesterol(1)             | Cholesterol(2)             | Cholesterol(2)             | Cholesterol(2)             | Cholesterol(3)             | Cholesterol(3)             | Cholesterol(3)             | Cholesterol(1)      | Cholesterol(1)     | Cholesterol(1)      | Cholesterol(2)     | Cholesterol(2)      | Cholesterol(2)     | Cholesterol(3)      | Cholesterol(3)      | Cholesterol(3)    |\n",
            "+-------------+------------------------------------+------------------------------------+------------------------------------+------------------------------------+------------------------------------+------------------------------------+------------------------------------+------------------------------------+------------------------------------+------------------------------------+------------------------------------+------------------------------------+------------------------------------+------------------------------------+------------------------------------+------------------------------------+------------------------------------+------------------------------------+----------------------------+----------------------------+----------------------------+----------------------------+----------------------------+----------------------------+----------------------------+----------------------------+----------------------------+---------------------+---------------------+---------------------+---------------------+---------------------+---------------------+---------------------+----------------------+--------------------+------------------------------------+------------------------------------+------------------------------------+------------------------------------+------------------------------------+------------------------------------+------------------------------------+------------------------------------+------------------------------------+------------------------------------+------------------------------------+------------------------------------+------------------------------------+------------------------------------+------------------------------------+------------------------------------+------------------------------------+------------------------------------+------------------------------------+------------------------------------+------------------------------------+------------------------------------+------------------------------------+------------------------------------+------------------------------------+------------------------------------+------------------------------------+------------------------------------+------------------------------------+------------------------------------+------------------------------------+------------------------------------+------------------------------------+------------------------------------+------------------------------------+------------------------------------+------------------------------------+------------------------------------+------------------------------------+------------------------------------+------------------------------------+------------------------------------+------------------------------------+------------------------------------+------------------------------------+------------------------------------+------------------------------------+------------------------------------+------------------------------------+------------------------------------+------------------------------------+------------------------------------+------------------------------------+------------------------------------+------------------------------------+------------------------------------+------------------------------------+------------------------------------+------------------------------------+------------------------------------+------------------------------------+------------------------------------+------------------------------------+------------------------------------+------------------------------------+------------------------------------+------------------------------------+------------------------------------+------------------------------------+------------------------------------+------------------------------------+------------------------------------+------------------------------------+------------------------------------+------------------------------------+------------------------------------+------------------------------------+------------------------------------+------------------------------------+------------------------------------+------------------------------------+------------------------------------+------------------------------------+------------------------------------+------------------------------------+------------------------------------+------------------------------------+------------------------------------+------------------------------------+------------------------------------+----------------------------+----------------------------+----------------------------+----------------------------+----------------------------+----------------------------+----------------------------+----------------------------+----------------------------+----------------------------+----------------------------+----------------------------+----------------------------+----------------------------+----------------------------+----------------------------+----------------------------+----------------------------+------------------------------------+------------------------------------+------------------------------------+------------------------------------+------------------------------------+------------------------------------+------------------------------------+------------------------------------+------------------------------------+------------------------------------+------------------------------------+------------------------------------+------------------------------------+------------------------------------+------------------------------------+------------------------------------+------------------------------------+------------------------------------+----------------------------+----------------------------+----------------------------+----------------------------+----------------------------+----------------------------+----------------------------+----------------------------+----------------------------+---------------------+--------------------+---------------------+--------------------+---------------------+--------------------+---------------------+---------------------+-------------------+\n",
            "| Gluc        | Gluc(1)                            | Gluc(2)                            | Gluc(3)                            | Gluc(1)                            | Gluc(2)                            | Gluc(3)                            | Gluc(1)                            | Gluc(2)                            | Gluc(3)                            | Gluc(1)                            | Gluc(2)                            | Gluc(3)                            | Gluc(1)                            | Gluc(2)                            | Gluc(3)                            | Gluc(1)                            | Gluc(2)                            | Gluc(3)                            | Gluc(1)                    | Gluc(2)                    | Gluc(3)                    | Gluc(1)                    | Gluc(2)                    | Gluc(3)                    | Gluc(1)                    | Gluc(2)                    | Gluc(3)                    | Gluc(1)             | Gluc(2)             | Gluc(3)             | Gluc(1)             | Gluc(2)             | Gluc(3)             | Gluc(1)             | Gluc(2)              | Gluc(3)            | Gluc(1)                            | Gluc(2)                            | Gluc(3)                            | Gluc(1)                            | Gluc(2)                            | Gluc(3)                            | Gluc(1)                            | Gluc(2)                            | Gluc(3)                            | Gluc(1)                            | Gluc(2)                            | Gluc(3)                            | Gluc(1)                            | Gluc(2)                            | Gluc(3)                            | Gluc(1)                            | Gluc(2)                            | Gluc(3)                            | Gluc(1)                            | Gluc(2)                            | Gluc(3)                            | Gluc(1)                            | Gluc(2)                            | Gluc(3)                            | Gluc(1)                            | Gluc(2)                            | Gluc(3)                            | Gluc(1)                            | Gluc(2)                            | Gluc(3)                            | Gluc(1)                            | Gluc(2)                            | Gluc(3)                            | Gluc(1)                            | Gluc(2)                            | Gluc(3)                            | Gluc(1)                            | Gluc(2)                            | Gluc(3)                            | Gluc(1)                            | Gluc(2)                            | Gluc(3)                            | Gluc(1)                            | Gluc(2)                            | Gluc(3)                            | Gluc(1)                            | Gluc(2)                            | Gluc(3)                            | Gluc(1)                            | Gluc(2)                            | Gluc(3)                            | Gluc(1)                            | Gluc(2)                            | Gluc(3)                            | Gluc(1)                            | Gluc(2)                            | Gluc(3)                            | Gluc(1)                            | Gluc(2)                            | Gluc(3)                            | Gluc(1)                            | Gluc(2)                            | Gluc(3)                            | Gluc(1)                            | Gluc(2)                            | Gluc(3)                            | Gluc(1)                            | Gluc(2)                            | Gluc(3)                            | Gluc(1)                            | Gluc(2)                            | Gluc(3)                            | Gluc(1)                            | Gluc(2)                            | Gluc(3)                            | Gluc(1)                            | Gluc(2)                            | Gluc(3)                            | Gluc(1)                            | Gluc(2)                            | Gluc(3)                            | Gluc(1)                            | Gluc(2)                            | Gluc(3)                            | Gluc(1)                            | Gluc(2)                            | Gluc(3)                            | Gluc(1)                            | Gluc(2)                            | Gluc(3)                            | Gluc(1)                    | Gluc(2)                    | Gluc(3)                    | Gluc(1)                    | Gluc(2)                    | Gluc(3)                    | Gluc(1)                    | Gluc(2)                    | Gluc(3)                    | Gluc(1)                    | Gluc(2)                    | Gluc(3)                    | Gluc(1)                    | Gluc(2)                    | Gluc(3)                    | Gluc(1)                    | Gluc(2)                    | Gluc(3)                    | Gluc(1)                            | Gluc(2)                            | Gluc(3)                            | Gluc(1)                            | Gluc(2)                            | Gluc(3)                            | Gluc(1)                            | Gluc(2)                            | Gluc(3)                            | Gluc(1)                            | Gluc(2)                            | Gluc(3)                            | Gluc(1)                            | Gluc(2)                            | Gluc(3)                            | Gluc(1)                            | Gluc(2)                            | Gluc(3)                            | Gluc(1)                    | Gluc(2)                    | Gluc(3)                    | Gluc(1)                    | Gluc(2)                    | Gluc(3)                    | Gluc(1)                    | Gluc(2)                    | Gluc(3)                    | Gluc(1)             | Gluc(2)            | Gluc(3)             | Gluc(1)            | Gluc(2)             | Gluc(3)            | Gluc(1)             | Gluc(2)             | Gluc(3)           |\n",
            "+-------------+------------------------------------+------------------------------------+------------------------------------+------------------------------------+------------------------------------+------------------------------------+------------------------------------+------------------------------------+------------------------------------+------------------------------------+------------------------------------+------------------------------------+------------------------------------+------------------------------------+------------------------------------+------------------------------------+------------------------------------+------------------------------------+----------------------------+----------------------------+----------------------------+----------------------------+----------------------------+----------------------------+----------------------------+----------------------------+----------------------------+---------------------+---------------------+---------------------+---------------------+---------------------+---------------------+---------------------+----------------------+--------------------+------------------------------------+------------------------------------+------------------------------------+------------------------------------+------------------------------------+------------------------------------+------------------------------------+------------------------------------+------------------------------------+------------------------------------+------------------------------------+------------------------------------+------------------------------------+------------------------------------+------------------------------------+------------------------------------+------------------------------------+------------------------------------+------------------------------------+------------------------------------+------------------------------------+------------------------------------+------------------------------------+------------------------------------+------------------------------------+------------------------------------+------------------------------------+------------------------------------+------------------------------------+------------------------------------+------------------------------------+------------------------------------+------------------------------------+------------------------------------+------------------------------------+------------------------------------+------------------------------------+------------------------------------+------------------------------------+------------------------------------+------------------------------------+------------------------------------+------------------------------------+------------------------------------+------------------------------------+------------------------------------+------------------------------------+------------------------------------+------------------------------------+------------------------------------+------------------------------------+------------------------------------+------------------------------------+------------------------------------+------------------------------------+------------------------------------+------------------------------------+------------------------------------+------------------------------------+------------------------------------+------------------------------------+------------------------------------+------------------------------------+------------------------------------+------------------------------------+------------------------------------+------------------------------------+------------------------------------+------------------------------------+------------------------------------+------------------------------------+------------------------------------+------------------------------------+------------------------------------+------------------------------------+------------------------------------+------------------------------------+------------------------------------+------------------------------------+------------------------------------+------------------------------------+------------------------------------+------------------------------------+------------------------------------+------------------------------------+------------------------------------+------------------------------------+------------------------------------+------------------------------------+------------------------------------+----------------------------+----------------------------+----------------------------+----------------------------+----------------------------+----------------------------+----------------------------+----------------------------+----------------------------+----------------------------+----------------------------+----------------------------+----------------------------+----------------------------+----------------------------+----------------------------+----------------------------+----------------------------+------------------------------------+------------------------------------+------------------------------------+------------------------------------+------------------------------------+------------------------------------+------------------------------------+------------------------------------+------------------------------------+------------------------------------+------------------------------------+------------------------------------+------------------------------------+------------------------------------+------------------------------------+------------------------------------+------------------------------------+------------------------------------+----------------------------+----------------------------+----------------------------+----------------------------+----------------------------+----------------------------+----------------------------+----------------------------+----------------------------+---------------------+--------------------+---------------------+--------------------+---------------------+--------------------+---------------------+---------------------+-------------------+\n",
            "| Cardio(0)   | 0.6799029536479811                 | 0.6171509762581355                 | 0.6360008513355326                 | 0.5637094602392952                 | 0.5769835807688526                 | 0.6230893000804505                 | 0.22619517977084153                | 0.21642910727681922                | 0.4156426816025604                 | 0.8446808510638297                 | 0.026315789473684213               | 0.5                                | 0.5                                | 0.5                                | 0.5                                | 0.026315789473684213               | 0.5                                | 0.9736842105263159                 | 0.649794653793501          | 0.45838150289017343        | 0.5650602409638554         | 0.5252383623107123         | 0.6096075778078485         | 0.6636363636363637         | 0.20027752081406106        | 0.002762430939226519       | 0.34903225806451615        | 0.7038789131851585  | 0.5832690824980725  | 0.653219837157661   | 0.6424981151042976  | 0.7140969162995595  | 0.7134387351778656  | 0.31337792642140466 | 0.005494505494505494 | 0.4915294117647059 | 0.4933381381849348                 | 0.45784543325526933                | 0.4930582337061319                 | 0.41112208369337117                | 0.4235543939888925                 | 0.3440207972270364                 | 0.14744937479251963                | 0.1840317100792752                 | 0.2487408260181321                 | 0.5879478827361564                 | 0.5                                | 0.9736842105263159                 | 0.33636363636363636                | 0.00909090909090909                | 0.5                                | 0.3348623853211009                 | 0.026315789473684213               | 0.013513513513513514               | 0.39847169764126167                | 0.44548207975769816                | 0.44780447390223693                | 0.34484881652756877                | 0.37231455208755576                | 0.4762532981530343                 | 0.1969348107641387                 | 0.15433854907539118                | 0.25415433644434327                | 0.516250663834307                  | 0.6548757170172084                 | 0.5553846153846154                 | 0.5217216411906678                 | 0.3531810766721044                 | 0.635678391959799                  | 0.1698024459078081                 | 0.0045871559633027525              | 0.3274470232088799                 | 0.013513513513513514               | 0.5                                | 0.5                                | 0.5                                | 0.5                                | 0.5                                | 0.5                                | 0.5                                | 0.5                                | 0.9736842105263159                 | 0.5                                | 0.5                                | 0.5                                | 0.5                                | 0.5                                | 0.026315789473684213               | 0.5                                | 0.026315789473684213               | 0.026315789473684213               | 0.5                                | 0.5                                | 0.5                                | 0.026315789473684213               | 0.5                                | 0.026315789473684213               | 0.5                                | 0.5                                | 0.026315789473684213               | 0.5                                | 0.5                                | 0.5                                | 0.026315789473684213               | 0.5                                | 0.5                                | 0.5                                | 0.5                                | 0.17976726621723682                | 0.21909201459262265                | 0.29226450405489707                | 0.16119591415126822                | 0.1677367576243981                 | 0.26972281449893387                | 0.14400971012423247                | 0.1324607329842932                 | 0.16814469078179697                | 0.2004754358161648                 | 0.5                                | 0.5                                | 0.0045871559633027525              | 0.1275862068965517                 | 0.9736842105263159                 | 0.005494505494505494               | 0.5                                | 0.33636363636363636                | 0.1580249223515324         | 0.16265185339009447        | 0.2554700649194518         | 0.12907765695831233        | 0.15949167977481576        | 0.20325379609544472        | 0.14148197430246578        | 0.22342824922469695        | 0.20583657587548634        | 0.23396134481078446        | 0.3892307692307692         | 0.1553191489361702         | 0.1836262719703978         | 0.2921478060046189         | 0.2517241379310345         | 0.1432616081540204         | 0.005494505494505494       | 0.2504950495049505         | 0.782221142287132                  | 0.7262964903090624                 | 0.7616740088105727                 | 0.7491175924205833                 | 0.722649807586586                  | 0.6660516605166051                 | 0.29226450405489707                | 0.26752767527675275                | 0.5384286934244236                 | 0.6636363636363637                 | 0.5                                | 0.5                                | 0.5                                | 0.5                                | 0.5                                | 0.026315789473684213               | 0.5                                | 0.5                                | 0.66188970152204           | 0.3754325259515571         | 0.5                        | 0.5094240837696336         | 0.3758620689655172         | 0.026315789473684213       | 0.12629757785467127        | 0.026315789473684213       | 0.38510638297872335        | 0.8155052828966691  | 0.7234327558492588 | 0.7605612998522895  | 0.7034581459197383 | 0.7123797422399709  | 0.6127012522361359 | 0.30378925512587596 | 0.29478827361563514 | 0.542845807987305 |\n",
            "+-------------+------------------------------------+------------------------------------+------------------------------------+------------------------------------+------------------------------------+------------------------------------+------------------------------------+------------------------------------+------------------------------------+------------------------------------+------------------------------------+------------------------------------+------------------------------------+------------------------------------+------------------------------------+------------------------------------+------------------------------------+------------------------------------+----------------------------+----------------------------+----------------------------+----------------------------+----------------------------+----------------------------+----------------------------+----------------------------+----------------------------+---------------------+---------------------+---------------------+---------------------+---------------------+---------------------+---------------------+----------------------+--------------------+------------------------------------+------------------------------------+------------------------------------+------------------------------------+------------------------------------+------------------------------------+------------------------------------+------------------------------------+------------------------------------+------------------------------------+------------------------------------+------------------------------------+------------------------------------+------------------------------------+------------------------------------+------------------------------------+------------------------------------+------------------------------------+------------------------------------+------------------------------------+------------------------------------+------------------------------------+------------------------------------+------------------------------------+------------------------------------+------------------------------------+------------------------------------+------------------------------------+------------------------------------+------------------------------------+------------------------------------+------------------------------------+------------------------------------+------------------------------------+------------------------------------+------------------------------------+------------------------------------+------------------------------------+------------------------------------+------------------------------------+------------------------------------+------------------------------------+------------------------------------+------------------------------------+------------------------------------+------------------------------------+------------------------------------+------------------------------------+------------------------------------+------------------------------------+------------------------------------+------------------------------------+------------------------------------+------------------------------------+------------------------------------+------------------------------------+------------------------------------+------------------------------------+------------------------------------+------------------------------------+------------------------------------+------------------------------------+------------------------------------+------------------------------------+------------------------------------+------------------------------------+------------------------------------+------------------------------------+------------------------------------+------------------------------------+------------------------------------+------------------------------------+------------------------------------+------------------------------------+------------------------------------+------------------------------------+------------------------------------+------------------------------------+------------------------------------+------------------------------------+------------------------------------+------------------------------------+------------------------------------+------------------------------------+------------------------------------+------------------------------------+------------------------------------+------------------------------------+------------------------------------+------------------------------------+----------------------------+----------------------------+----------------------------+----------------------------+----------------------------+----------------------------+----------------------------+----------------------------+----------------------------+----------------------------+----------------------------+----------------------------+----------------------------+----------------------------+----------------------------+----------------------------+----------------------------+----------------------------+------------------------------------+------------------------------------+------------------------------------+------------------------------------+------------------------------------+------------------------------------+------------------------------------+------------------------------------+------------------------------------+------------------------------------+------------------------------------+------------------------------------+------------------------------------+------------------------------------+------------------------------------+------------------------------------+------------------------------------+------------------------------------+----------------------------+----------------------------+----------------------------+----------------------------+----------------------------+----------------------------+----------------------------+----------------------------+----------------------------+---------------------+--------------------+---------------------+--------------------+---------------------+--------------------+---------------------+---------------------+-------------------+\n",
            "| Cardio(1)   | 0.32009704635201885                | 0.3828490237418645                 | 0.36399914866446736                | 0.4362905397607048                 | 0.42301641923114736                | 0.37691069991954945                | 0.7738048202291584                 | 0.7835708927231808                 | 0.5843573183974395                 | 0.1553191489361702                 | 0.9736842105263159                 | 0.5                                | 0.5                                | 0.5                                | 0.5                                | 0.9736842105263159                 | 0.5                                | 0.026315789473684213               | 0.350205346206499          | 0.5416184971098266         | 0.43493975903614457        | 0.4747616376892877         | 0.39039242219215153        | 0.33636363636363636        | 0.799722479185939          | 0.9972375690607734         | 0.6509677419354839         | 0.29612108681484145 | 0.41673091750192753 | 0.34678016284233903 | 0.35750188489570245 | 0.28590308370044054 | 0.28656126482213434 | 0.6866220735785953  | 0.9945054945054945   | 0.5084705882352941 | 0.5066618618150651                 | 0.5421545667447307                 | 0.5069417662938681                 | 0.5888779163066288                 | 0.5764456060111075                 | 0.6559792027729636                 | 0.8525506252074804                 | 0.8159682899207248                 | 0.7512591739818679                 | 0.4120521172638436                 | 0.5                                | 0.026315789473684213               | 0.6636363636363637                 | 0.990909090909091                  | 0.5                                | 0.6651376146788991                 | 0.9736842105263159                 | 0.9864864864864865                 | 0.6015283023587383                 | 0.5545179202423018                 | 0.552195526097763                  | 0.6551511834724313                 | 0.6276854479124443                 | 0.5237467018469657                 | 0.8030651892358612                 | 0.8456614509246088                 | 0.7458456635556567                 | 0.48374933616569304                | 0.3451242829827916                 | 0.44461538461538463                | 0.4782783588093323                 | 0.6468189233278956                 | 0.36432160804020103                | 0.8301975540921919                 | 0.9954128440366973                 | 0.67255297679112                   | 0.9864864864864865                 | 0.5                                | 0.5                                | 0.5                                | 0.5                                | 0.5                                | 0.5                                | 0.5                                | 0.5                                | 0.026315789473684213               | 0.5                                | 0.5                                | 0.5                                | 0.5                                | 0.5                                | 0.9736842105263159                 | 0.5                                | 0.9736842105263159                 | 0.9736842105263159                 | 0.5                                | 0.5                                | 0.5                                | 0.9736842105263159                 | 0.5                                | 0.9736842105263159                 | 0.5                                | 0.5                                | 0.9736842105263159                 | 0.5                                | 0.5                                | 0.5                                | 0.9736842105263159                 | 0.5                                | 0.5                                | 0.5                                | 0.5                                | 0.8202327337827632                 | 0.7809079854073774                 | 0.7077354959451029                 | 0.8388040858487318                 | 0.8322632423756019                 | 0.7302771855010661                 | 0.8559902898757675                 | 0.8675392670157068                 | 0.831855309218203                  | 0.7995245641838352                 | 0.5                                | 0.5                                | 0.9954128440366973                 | 0.8724137931034482                 | 0.026315789473684213               | 0.9945054945054945                 | 0.5                                | 0.6636363636363637                 | 0.8419750776484677         | 0.8373481466099055         | 0.7445299350805482         | 0.8709223430416876         | 0.8405083202251842         | 0.7967462039045553         | 0.8585180256975342         | 0.776571750775303          | 0.7941634241245136         | 0.7660386551892155         | 0.6107692307692307         | 0.8446808510638297         | 0.8163737280296022         | 0.707852193995381          | 0.7482758620689656         | 0.8567383918459796         | 0.9945054945054945         | 0.7495049504950495         | 0.21777885771286798                | 0.2737035096909377                 | 0.23832599118942732                | 0.25088240757941666                | 0.277350192413414                  | 0.3339483394833948                 | 0.7077354959451029                 | 0.7324723247232472                 | 0.46157130657557643                | 0.33636363636363636                | 0.5                                | 0.5                                | 0.5                                | 0.5                                | 0.5                                | 0.9736842105263159                 | 0.5                                | 0.5                                | 0.33811029847796004        | 0.6245674740484429         | 0.5                        | 0.4905759162303665         | 0.6241379310344828         | 0.9736842105263159         | 0.8737024221453287         | 0.9736842105263159         | 0.6148936170212765         | 0.18449471710333093 | 0.2765672441507412 | 0.23943870014771051 | 0.2965418540802617 | 0.28762025776002903 | 0.387298747763864  | 0.696210744874124   | 0.7052117263843648  | 0.457154192012695 |\n",
            "+-------------+------------------------------------+------------------------------------+------------------------------------+------------------------------------+------------------------------------+------------------------------------+------------------------------------+------------------------------------+------------------------------------+------------------------------------+------------------------------------+------------------------------------+------------------------------------+------------------------------------+------------------------------------+------------------------------------+------------------------------------+------------------------------------+----------------------------+----------------------------+----------------------------+----------------------------+----------------------------+----------------------------+----------------------------+----------------------------+----------------------------+---------------------+---------------------+---------------------+---------------------+---------------------+---------------------+---------------------+----------------------+--------------------+------------------------------------+------------------------------------+------------------------------------+------------------------------------+------------------------------------+------------------------------------+------------------------------------+------------------------------------+------------------------------------+------------------------------------+------------------------------------+------------------------------------+------------------------------------+------------------------------------+------------------------------------+------------------------------------+------------------------------------+------------------------------------+------------------------------------+------------------------------------+------------------------------------+------------------------------------+------------------------------------+------------------------------------+------------------------------------+------------------------------------+------------------------------------+------------------------------------+------------------------------------+------------------------------------+------------------------------------+------------------------------------+------------------------------------+------------------------------------+------------------------------------+------------------------------------+------------------------------------+------------------------------------+------------------------------------+------------------------------------+------------------------------------+------------------------------------+------------------------------------+------------------------------------+------------------------------------+------------------------------------+------------------------------------+------------------------------------+------------------------------------+------------------------------------+------------------------------------+------------------------------------+------------------------------------+------------------------------------+------------------------------------+------------------------------------+------------------------------------+------------------------------------+------------------------------------+------------------------------------+------------------------------------+------------------------------------+------------------------------------+------------------------------------+------------------------------------+------------------------------------+------------------------------------+------------------------------------+------------------------------------+------------------------------------+------------------------------------+------------------------------------+------------------------------------+------------------------------------+------------------------------------+------------------------------------+------------------------------------+------------------------------------+------------------------------------+------------------------------------+------------------------------------+------------------------------------+------------------------------------+------------------------------------+------------------------------------+------------------------------------+------------------------------------+------------------------------------+------------------------------------+------------------------------------+----------------------------+----------------------------+----------------------------+----------------------------+----------------------------+----------------------------+----------------------------+----------------------------+----------------------------+----------------------------+----------------------------+----------------------------+----------------------------+----------------------------+----------------------------+----------------------------+----------------------------+----------------------------+------------------------------------+------------------------------------+------------------------------------+------------------------------------+------------------------------------+------------------------------------+------------------------------------+------------------------------------+------------------------------------+------------------------------------+------------------------------------+------------------------------------+------------------------------------+------------------------------------+------------------------------------+------------------------------------+------------------------------------+------------------------------------+----------------------------+----------------------------+----------------------------+----------------------------+----------------------------+----------------------------+----------------------------+----------------------------+----------------------------+---------------------+--------------------+---------------------+--------------------+---------------------+--------------------+---------------------+---------------------+-------------------+ \n",
            "\n"
          ]
        }
      ]
    },
    {
      "cell_type": "markdown",
      "metadata": {
        "id": "-rxXQdfdR1-F"
      },
      "source": [
        "#Independencies\n"
      ]
    },
    {
      "cell_type": "code",
      "metadata": {
        "colab": {
          "base_uri": "https://localhost:8080/"
        },
        "id": "7IAHPFkdBK3X",
        "outputId": "b098f401-1b63-4aa3-c3fb-01f109944230"
      },
      "source": [
        "nodes=['BMI','Age_(y)','Active','Smoke','Alco','Cholesterol','Gluc','Ap_lo','Ap_hi','Cardio'] \n",
        "print(f'There can be made {len(model.get_independencies().get_assertions())}',\n",
        "      'valid independence assertions with respect to the all possible given evidence.')\n",
        "print('Any node in the network is independent of its non-descendents given its parents (local semantics):\\n',\n",
        "      f'\\n{model.local_independencies(nodes)}\\n')"
      ],
      "execution_count": 41,
      "outputs": [
        {
          "output_type": "stream",
          "name": "stdout",
          "text": [
            "There can be made 4942 valid independence assertions with respect to the all possible given evidence.\n",
            "Any node in the network is independent of its non-descendents given its parents (local semantics):\n",
            " \n",
            "(BMI ⟂ Smoke, Alco | Gender, Age_(y), Active)\n",
            "(Age_(y) ⟂ Gender, Smoke, Alco, Active)\n",
            "(Active ⟂ Gender, Smoke, Age_(y), Alco)\n",
            "(Smoke ⟂ Gender, Age_(y), Alco, BMI, Active)\n",
            "(Alco ⟂ Gender, Age_(y), Smoke, BMI, Active)\n",
            "(Cholesterol ⟂ Gender, Age_(y), Gluc, Ap_lo, Ap_hi, Active | Smoke, BMI, Alco)\n",
            "(Gluc ⟂ Gender, Age_(y), Ap_hi, Ap_lo, Cholesterol, Active | Smoke, BMI, Alco)\n",
            "(Ap_lo ⟂ Gender, Age_(y), Gluc, Ap_hi, Cholesterol, Active | Smoke, BMI, Alco)\n",
            "(Ap_hi ⟂ Gender, Age_(y), Gluc, Ap_lo, Cholesterol, Active | Smoke, BMI, Alco)\n",
            "(Cardio ⟂ Gender, Age_(y), Alco, Smoke, BMI, Active | Ap_hi, Ap_lo, Gluc, Cholesterol)\n",
            "\n"
          ]
        }
      ]
    },
    {
      "cell_type": "markdown",
      "metadata": {
        "id": "0oM8uH9RSTdt"
      },
      "source": [
        "#The independence assertions"
      ]
    },
    {
      "cell_type": "code",
      "metadata": {
        "colab": {
          "base_uri": "https://localhost:8080/"
        },
        "id": "k8354bj4Qmki",
        "outputId": "1569293f-f461-4a19-b177-559d24e20446"
      },
      "source": [
        "def independent_assertions_score(node):\n",
        "    return len([a for a in model.get_independencies().get_assertions() if node in a.event1])\n",
        "\n",
        "def evidence_assertions_score(node):\n",
        "    return len([a for a in model.get_independencies().get_assertions() if node in a.event3])\n",
        "\n",
        "def calculations(assertion_dict, node, score_function):\n",
        "    tmp_score = score_function(node)\n",
        "    if tmp_score == assertion_dict[\"max\"][\"score\"]:\n",
        "        assertion_dict[\"max\"][\"nodes\"].append(node)\n",
        "    elif tmp_score > assertion_dict[\"max\"][\"score\"]:\n",
        "        assertion_dict[\"max\"][\"nodes\"] = [node]\n",
        "        assertion_dict[\"max\"][\"score\"] = tmp_score\n",
        "    if tmp_score == assertion_dict[\"min\"][\"score\"]:\n",
        "        assertion_dict[\"min\"][\"nodes\"].append(node)\n",
        "    elif tmp_score < assertion_dict[\"min\"][\"score\"]:\n",
        "        assertion_dict[\"min\"][\"nodes\"] = [node]\n",
        "        assertion_dict[\"min\"][\"score\"] = tmp_score  \n",
        "\n",
        "if len(nodes) > 1:\n",
        "    independent_init = independent_assertions_score(nodes[0])\n",
        "    independent_dict = {\"max\": {\"nodes\": [nodes[0]], \"score\": independent_init}, \n",
        "                       \"min\": {\"nodes\": [nodes[0]], \"score\": independent_init}}\n",
        "    evidence_init = evidence_assertions_score(nodes[0]) \n",
        "    evidence_dict = {\"max\": {\"nodes\": [nodes[0]], \"score\": evidence_init}, \n",
        "                    \"min\": {\"nodes\": [nodes[0]], \"score\": evidence_init}} \n",
        "    for node in nodes[1:]:\n",
        "        calculations(independent_dict, node, independent_assertions_score)\n",
        "        calculations(evidence_dict, node, evidence_assertions_score)\n",
        "\n",
        "print(f'Nodes which appear most ({independent_dict[\"max\"][\"score\"]} times) in independence assertions',\n",
        "      f'as independent variable are:\\n{set(independent_dict[\"max\"][\"nodes\"])}')\n",
        "print(f'Nodes which appear least ({independent_dict[\"min\"][\"score\"]} times) in independence assertions',\n",
        "      f'as independent variable are:\\n{set(independent_dict[\"min\"][\"nodes\"])}')\n",
        "print(f'Nodes which appear most ({evidence_dict[\"max\"][\"score\"]} times) in independence assertions',\n",
        "      f'as evidence are:\\n{set(evidence_dict[\"max\"][\"nodes\"])}')\n",
        "print(f'Nodes which appear least ({evidence_dict[\"min\"][\"score\"]} times) in independence assertions',\n",
        "      f'as evidence are:\\n{set(evidence_dict[\"min\"][\"nodes\"])}')\n"
      ],
      "execution_count": 42,
      "outputs": [
        {
          "output_type": "stream",
          "name": "stdout",
          "text": [
            "Nodes which appear most (539 times) in independence assertions as independent variable are:\n",
            "{'Age_(y)', 'Active'}\n",
            "Nodes which appear least (56 times) in independence assertions as independent variable are:\n",
            "{'BMI'}\n",
            "Nodes which appear most (4697 times) in independence assertions as evidence are:\n",
            "{'BMI'}\n",
            "Nodes which appear least (1995 times) in independence assertions as evidence are:\n",
            "{'Age_(y)', 'Active'}\n"
          ]
        }
      ]
    },
    {
      "cell_type": "markdown",
      "metadata": {
        "id": "lmXSM6cDTcpm"
      },
      "source": [
        "#Checking assertions"
      ]
    },
    {
      "cell_type": "code",
      "metadata": {
        "id": "d5SunIGnQysU",
        "colab": {
          "base_uri": "https://localhost:8080/"
        },
        "outputId": "303c332f-579b-428e-94c5-16d2e0d130fb"
      },
      "source": [
        "\n",
        "def check_assertion(model, independent, from_variables, evidence):\n",
        "    assertion = IndependenceAssertion(independent, from_variables, evidence)\n",
        "    result = False\n",
        "    for a in model.get_independencies().get_assertions():\n",
        "        if frozenset(assertion.event1) == a.event1 and assertion.event2 <= a.event2 and frozenset(assertion.event3) == a.event3:\n",
        "            result = True\n",
        "            break\n",
        "    print(f'{assertion}: {result}')\n",
        "\n",
        "check_assertion(model, independent=['BMI'], from_variables=['Age_(y)'], evidence=[])\n",
        "check_assertion(model, independent=['Gender'], from_variables=['Age_(y)'], evidence=[])\n",
        "check_assertion(model, independent=['Gender'], from_variables=['Age_(y)'], evidence=['BMI'])"
      ],
      "execution_count": 43,
      "outputs": [
        {
          "output_type": "stream",
          "name": "stdout",
          "text": [
            "(BMI ⟂ Age_(y)): False\n",
            "(Gender ⟂ Age_(y)): True\n",
            "(Gender ⟂ Age_(y) | BMI): False\n"
          ]
        }
      ]
    },
    {
      "cell_type": "markdown",
      "metadata": {
        "id": "udntFT-sSF5D"
      },
      "source": [
        "#Active trails and markov blanket"
      ]
    },
    {
      "cell_type": "code",
      "metadata": {
        "id": "9R70Ph0ZB96K",
        "colab": {
          "base_uri": "https://localhost:8080/"
        },
        "outputId": "7c4f64b2-8de8-4127-dff0-a7bc769f4ed9"
      },
      "source": [
        "def active_trails_of(query, evidence):\n",
        "    a = model.active_trail_nodes(query, observed=evidence).get(query)\n",
        "    a.remove(query)\n",
        "    if a:\n",
        "        if evidence:\n",
        "            print(f'Active trails between \\'{query}\\' and {a} given the evidence {set(evidence)}.')\n",
        "        else:\n",
        "            print(f'Active trails between \\'{query}\\' and {a} given no evidence.')\n",
        "    else:\n",
        "        print(f'No Active trails for \\'{query}\\' given the evidence {set(evidence)}.')\n",
        "        \n",
        "def markov_blanket_of(node):\n",
        "    print(f'Markov blanket of \\'{node}\\' is {set(model.get_markov_blanket(node))}')\n",
        "\n",
        "markov_blanket_of(node='Cardio')\n",
        "active_trails_of(query='Cardio', evidence=[])\n",
        "active_trails_of(query='Cardio', evidence=['Age_(y)'])\n",
        "active_trails_of(query='Cholesterol', evidence=[])\n",
        "active_trails_of(query='Cholesterol', evidence=['Active'])\n",
        "active_trails_of(query='Cholesterol', evidence=['BMI'])\n",
        "\n"
      ],
      "execution_count": 44,
      "outputs": [
        {
          "output_type": "stream",
          "name": "stdout",
          "text": [
            "Markov blanket of 'Cardio' is {'Ap_lo', 'Gluc', 'Ap_hi', 'Cholesterol'}\n",
            "Active trails between 'Cardio' and {'Ap_hi', 'Cholesterol', 'Active', 'Gender', 'Age_(y)', 'Alco', 'Smoke', 'Ap_lo', 'BMI', 'Gluc'} given no evidence.\n",
            "Active trails between 'Cardio' and {'Ap_hi', 'Cholesterol', 'Active', 'Gender', 'Alco', 'Smoke', 'Ap_lo', 'BMI', 'Gluc'} given the evidence {'Age_(y)'}.\n",
            "Active trails between 'Cholesterol' and {'Cardio', 'Ap_hi', 'Active', 'Gender', 'Age_(y)', 'Alco', 'Smoke', 'Ap_lo', 'BMI', 'Gluc'} given no evidence.\n",
            "Active trails between 'Cholesterol' and {'Cardio', 'Ap_hi', 'Gender', 'Age_(y)', 'Alco', 'Smoke', 'Ap_lo', 'BMI', 'Gluc'} given the evidence {'Active'}.\n",
            "Active trails between 'Cholesterol' and {'Gluc', 'Cardio', 'Alco', 'Smoke', 'Ap_hi', 'Ap_lo'} given the evidence {'BMI'}.\n"
          ]
        }
      ]
    },
    {
      "cell_type": "markdown",
      "metadata": {
        "id": "11E0_Gp8pu0g"
      },
      "source": [
        "#Variable Elimination Queries\n"
      ]
    },
    {
      "cell_type": "code",
      "metadata": {
        "id": "flFon0EUmfPL"
      },
      "source": [
        "Cardio_inference=VariableElimination(model)"
      ],
      "execution_count": 45,
      "outputs": []
    },
    {
      "cell_type": "markdown",
      "metadata": {
        "id": "gO6snwQlLHrm"
      },
      "source": [
        "##Query 1: P(Cardio|alc=1, Gluc=3, chol=3, BMI=obese)\n"
      ]
    },
    {
      "cell_type": "code",
      "metadata": {
        "colab": {
          "base_uri": "https://localhost:8080/"
        },
        "id": "U41kDURStcl8",
        "outputId": "36902a6f-2af3-4179-b64e-ccaae7cbe2e8"
      },
      "source": [
        "q_1=Cardio_inference.query(['Cardio'],{'Alco':1,'Gluc':3,'Cholesterol':3, 'BMI':'obese'})\n",
        "print('\\n\\nP(Cardio|alc=1, Gluc=3, chol=3, BMI=obese)')\n",
        "print(q_1)"
      ],
      "execution_count": 46,
      "outputs": [
        {
          "output_type": "stream",
          "name": "stderr",
          "text": [
            "Finding Elimination Order: :   0%|          | 0/3 [00:00<?, ?it/s]\n",
            "  0%|          | 0/3 [00:00<?, ?it/s]\u001b[A\n",
            "Eliminating: Ap_lo:   0%|          | 0/3 [00:00<?, ?it/s]\u001b[A\n",
            "Eliminating: Ap_hi:   0%|          | 0/3 [00:00<?, ?it/s]\u001b[A\n",
            "Eliminating: Smoke: 100%|██████████| 3/3 [00:00<00:00, 175.89it/s]"
          ]
        },
        {
          "output_type": "stream",
          "name": "stdout",
          "text": [
            "\n",
            "\n",
            "P(Cardio|alc=1, Gluc=3, chol=3, BMI=obese)\n",
            "+-----------+---------------+\n",
            "| Cardio    |   phi(Cardio) |\n",
            "+===========+===============+\n",
            "| Cardio(0) |        0.2979 |\n",
            "+-----------+---------------+\n",
            "| Cardio(1) |        0.7021 |\n",
            "+-----------+---------------+\n"
          ]
        },
        {
          "output_type": "stream",
          "name": "stderr",
          "text": [
            "\n"
          ]
        }
      ]
    },
    {
      "cell_type": "markdown",
      "metadata": {
        "id": "A_6yGt-BLNxG"
      },
      "source": [
        "##Query 2: P(Cardio|alc=0, Gluc=2, chol=2, BMI=obese)\n",
        "\n"
      ]
    },
    {
      "cell_type": "code",
      "metadata": {
        "colab": {
          "base_uri": "https://localhost:8080/"
        },
        "id": "Ae2kWSW-Faxq",
        "outputId": "4781055d-167b-4be8-b631-4a2e7bc3864a"
      },
      "source": [
        "q_2=Cardio_inference.query(['Cardio'],{'Alco':0,'Gluc':2,'Cholesterol':2, 'BMI':'obese'})\n",
        "print('\\n\\nP(Cardio|alc=0, Gluc=2, chol=2, BMI=obese)')\n",
        "print(q_2)"
      ],
      "execution_count": 47,
      "outputs": [
        {
          "output_type": "stream",
          "name": "stderr",
          "text": [
            "Finding Elimination Order: : 100%|██████████| 3/3 [00:00<00:00, 37.10it/s]\n",
            "Finding Elimination Order: :   0%|          | 0/3 [00:00<?, ?it/s]\n",
            "  0%|          | 0/3 [00:00<?, ?it/s]\u001b[A\n",
            "Eliminating: Ap_lo:   0%|          | 0/3 [00:00<?, ?it/s]\u001b[A\n",
            "Eliminating: Ap_hi:   0%|          | 0/3 [00:00<?, ?it/s]\u001b[A\n",
            "Eliminating: Smoke: 100%|██████████| 3/3 [00:00<00:00, 148.53it/s]"
          ]
        },
        {
          "output_type": "stream",
          "name": "stdout",
          "text": [
            "\n",
            "\n",
            "P(Cardio|alc=0, Gluc=2, chol=2, BMI=obese)\n",
            "+-----------+---------------+\n",
            "| Cardio    |   phi(Cardio) |\n",
            "+===========+===============+\n",
            "| Cardio(0) |        0.3975 |\n",
            "+-----------+---------------+\n",
            "| Cardio(1) |        0.6025 |\n",
            "+-----------+---------------+\n"
          ]
        },
        {
          "output_type": "stream",
          "name": "stderr",
          "text": [
            "\n"
          ]
        }
      ]
    },
    {
      "cell_type": "markdown",
      "metadata": {
        "id": "zDpNa5LvLeOm"
      },
      "source": [
        "##Query 3: P(Cardio|alc=0, Gluc=1, chol=1, BMI=overweight)\n",
        "\n"
      ]
    },
    {
      "cell_type": "code",
      "metadata": {
        "colab": {
          "base_uri": "https://localhost:8080/"
        },
        "id": "anD1VapfFfYN",
        "outputId": "bae39a3f-bb46-4354-801a-7c1b46f42a90"
      },
      "source": [
        "q_3=Cardio_inference.query(['Cardio'],{'Alco':0,'Gluc':1,'Cholesterol':1, 'BMI':'overweight'})\n",
        "print('\\n\\nP(Cardio|alc=0, Gluc=1, chol=1, BMI=overweight)')\n",
        "print(q_3)"
      ],
      "execution_count": 48,
      "outputs": [
        {
          "output_type": "stream",
          "name": "stderr",
          "text": [
            "Finding Elimination Order: : 100%|██████████| 3/3 [00:00<00:00, 37.17it/s]\n",
            "Finding Elimination Order: :   0%|          | 0/3 [00:00<?, ?it/s]\n",
            "  0%|          | 0/3 [00:00<?, ?it/s]\u001b[A\n",
            "Eliminating: Ap_lo:   0%|          | 0/3 [00:00<?, ?it/s]\u001b[A\n",
            "Eliminating: Ap_hi:   0%|          | 0/3 [00:00<?, ?it/s]\u001b[A\n",
            "Eliminating: Smoke: 100%|██████████| 3/3 [00:00<00:00, 158.69it/s]"
          ]
        },
        {
          "output_type": "stream",
          "name": "stdout",
          "text": [
            "\n",
            "\n",
            "P(Cardio|alc=0, Gluc=1, chol=1, BMI=overweight)\n",
            "+-----------+---------------+\n",
            "| Cardio    |   phi(Cardio) |\n",
            "+===========+===============+\n",
            "| Cardio(0) |        0.5310 |\n",
            "+-----------+---------------+\n",
            "| Cardio(1) |        0.4690 |\n",
            "+-----------+---------------+\n"
          ]
        },
        {
          "output_type": "stream",
          "name": "stderr",
          "text": [
            "\n"
          ]
        }
      ]
    },
    {
      "cell_type": "markdown",
      "metadata": {
        "id": "7EyN6PDuLnR8"
      },
      "source": [
        "##Query 4: P(Cardio|alc=0, Gluc=1, chol=1, BMI= normal weight)\n",
        "\n",
        "\n",
        "\n"
      ]
    },
    {
      "cell_type": "code",
      "metadata": {
        "colab": {
          "base_uri": "https://localhost:8080/"
        },
        "id": "jJ3dWrRPFytn",
        "outputId": "ce8faaba-0cd4-4f2b-f292-dca0ad8f66e9"
      },
      "source": [
        "q_4=Cardio_inference.query(['Cardio'],{'Alco':0,'Gluc':1,'Cholesterol':1, 'BMI':'normal weight'})\n",
        "print('\\n\\nP(Cardio|alc=0, Gluc=1, chol=1, BMI= normal weight)')\n",
        "print(q_4)"
      ],
      "execution_count": 49,
      "outputs": [
        {
          "output_type": "stream",
          "name": "stderr",
          "text": [
            "Finding Elimination Order: : 100%|██████████| 3/3 [00:00<00:00, 39.22it/s]\n",
            "Finding Elimination Order: :   0%|          | 0/3 [00:00<?, ?it/s]\n",
            "  0%|          | 0/3 [00:00<?, ?it/s]\u001b[A\n",
            "Eliminating: Ap_lo:   0%|          | 0/3 [00:00<?, ?it/s]\u001b[A\n",
            "Eliminating: Ap_hi:   0%|          | 0/3 [00:00<?, ?it/s]\u001b[A\n",
            "Eliminating: Smoke: 100%|██████████| 3/3 [00:00<00:00, 101.46it/s]"
          ]
        },
        {
          "output_type": "stream",
          "name": "stdout",
          "text": [
            "\n",
            "\n",
            "P(Cardio|alc=0, Gluc=1, chol=1, BMI= normal weight)\n",
            "+-----------+---------------+\n",
            "| Cardio    |   phi(Cardio) |\n",
            "+===========+===============+\n",
            "| Cardio(0) |        0.6029 |\n",
            "+-----------+---------------+\n",
            "| Cardio(1) |        0.3971 |\n",
            "+-----------+---------------+\n"
          ]
        },
        {
          "output_type": "stream",
          "name": "stderr",
          "text": [
            "\n"
          ]
        }
      ]
    },
    {
      "cell_type": "markdown",
      "metadata": {
        "id": "t5t8L5rUnjrd"
      },
      "source": [
        "##Query 5: P(Cardio|alc=1, Gluc=3, chol=3, BMI= underweight)\n"
      ]
    },
    {
      "cell_type": "code",
      "metadata": {
        "colab": {
          "base_uri": "https://localhost:8080/"
        },
        "id": "zMmvXJEqhyKx",
        "outputId": "ab12c4da-f00a-4b2e-f087-35a3cb2e03b1"
      },
      "source": [
        "q_5=Cardio_inference.query(['Cardio'],{ 'Alco':1,'Gluc':3,'Cholesterol':3, 'BMI':'underweight'})\n",
        "print('\\n\\nP(Cardio|alc=1, Gluc=3, chol=3, BMI= underweight)')\n",
        "print(q_5)"
      ],
      "execution_count": 50,
      "outputs": [
        {
          "output_type": "stream",
          "name": "stderr",
          "text": [
            "Finding Elimination Order: : 100%|██████████| 3/3 [00:00<00:00, 30.55it/s]\n",
            "Finding Elimination Order: :   0%|          | 0/3 [00:00<?, ?it/s]\n",
            "  0%|          | 0/3 [00:00<?, ?it/s]\u001b[A\n",
            "Eliminating: Ap_lo:   0%|          | 0/3 [00:00<?, ?it/s]\u001b[A\n",
            "Eliminating: Ap_hi:   0%|          | 0/3 [00:00<?, ?it/s]\u001b[A\n",
            "Eliminating: Smoke: 100%|██████████| 3/3 [00:00<00:00, 58.56it/s]"
          ]
        },
        {
          "output_type": "stream",
          "name": "stdout",
          "text": [
            "\n",
            "\n",
            "P(Cardio|alc=1, Gluc=3, chol=3, BMI= underweight)\n",
            "+-----------+---------------+\n",
            "| Cardio    |   phi(Cardio) |\n",
            "+===========+===============+\n",
            "| Cardio(0) |        0.4339 |\n",
            "+-----------+---------------+\n",
            "| Cardio(1) |        0.5661 |\n",
            "+-----------+---------------+\n"
          ]
        },
        {
          "output_type": "stream",
          "name": "stderr",
          "text": [
            "\n"
          ]
        }
      ]
    },
    {
      "cell_type": "markdown",
      "metadata": {
        "id": "niCFX-BvVGza"
      },
      "source": [
        "##Query 6: P(Cardio|alc=0, Gluc=1, chol=1, age=Young Adult)"
      ]
    },
    {
      "cell_type": "code",
      "metadata": {
        "colab": {
          "base_uri": "https://localhost:8080/"
        },
        "id": "xBsOIrBJz_CK",
        "outputId": "6d6225cb-9eb8-46f2-db19-0e4345777148"
      },
      "source": [
        "q_6=Cardio_inference.query(['Cardio'],{ 'Alco':0,'Gluc':1,'Cholesterol':1,'Age_(y)':'Young Adult'})\n",
        "print('\\n\\nP(Cardio|alc=0, Gluc=1, chol=1, age=Young Adult')\n",
        "print(q_6)"
      ],
      "execution_count": 51,
      "outputs": [
        {
          "output_type": "stream",
          "name": "stderr",
          "text": [
            "Finding Elimination Order: : 100%|██████████| 3/3 [00:00<00:00, 26.41it/s]\n",
            "Finding Elimination Order: :   0%|          | 0/6 [00:00<?, ?it/s]\n",
            "  0%|          | 0/6 [00:00<?, ?it/s]\u001b[A\n",
            "Eliminating: Gender:   0%|          | 0/6 [00:00<?, ?it/s]\u001b[A\n",
            "Eliminating: Ap_lo:   0%|          | 0/6 [00:00<?, ?it/s] \u001b[A\n",
            "Eliminating: Ap_hi:   0%|          | 0/6 [00:00<?, ?it/s]\u001b[A\n",
            "Eliminating: Active:   0%|          | 0/6 [00:00<?, ?it/s]\u001b[A\n",
            "Eliminating: Smoke:   0%|          | 0/6 [00:00<?, ?it/s] \u001b[A\n",
            "Eliminating: BMI: 100%|██████████| 6/6 [00:00<00:00, 121.33it/s]"
          ]
        },
        {
          "output_type": "stream",
          "name": "stdout",
          "text": [
            "\n",
            "\n",
            "P(Cardio|alc=0, Gluc=1, chol=1, age=Young Adult\n",
            "+-----------+---------------+\n",
            "| Cardio    |   phi(Cardio) |\n",
            "+===========+===============+\n",
            "| Cardio(0) |        0.5582 |\n",
            "+-----------+---------------+\n",
            "| Cardio(1) |        0.4418 |\n",
            "+-----------+---------------+\n"
          ]
        },
        {
          "output_type": "stream",
          "name": "stderr",
          "text": [
            "\n"
          ]
        }
      ]
    },
    {
      "cell_type": "markdown",
      "metadata": {
        "id": "1miMX8-1VOE7"
      },
      "source": [
        "##Query 7: P(Cardio|alc=0, Gluc=1, chol=1, age=Old Adult)"
      ]
    },
    {
      "cell_type": "code",
      "metadata": {
        "colab": {
          "base_uri": "https://localhost:8080/"
        },
        "id": "5o-5NbL70hnZ",
        "outputId": "8719d4a1-e2ba-47d5-f923-0aec897a87e1"
      },
      "source": [
        "q_7=Cardio_inference.query(['Cardio'],{ 'Alco':0,'Gluc':1,'Cholesterol':1,'Age_(y)':'Old Adult'})\n",
        "print('\\n\\nP(Cardio|alc=0, Gluc=1, chol=1, age=Old Adult)')\n",
        "print(q_7)"
      ],
      "execution_count": 52,
      "outputs": [
        {
          "output_type": "stream",
          "name": "stderr",
          "text": [
            "Finding Elimination Order: : 100%|██████████| 6/6 [00:00<00:00, 45.31it/s]\n",
            "Finding Elimination Order: :   0%|          | 0/6 [00:00<?, ?it/s]\n",
            "  0%|          | 0/6 [00:00<?, ?it/s]\u001b[A\n",
            "Eliminating: Gender:   0%|          | 0/6 [00:00<?, ?it/s]\u001b[A\n",
            "Eliminating: Ap_lo:   0%|          | 0/6 [00:00<?, ?it/s] \u001b[A\n",
            "Eliminating: Ap_hi:   0%|          | 0/6 [00:00<?, ?it/s]\u001b[A\n",
            "Eliminating: Active:   0%|          | 0/6 [00:00<?, ?it/s]\u001b[A\n",
            "Eliminating: Smoke:   0%|          | 0/6 [00:00<?, ?it/s] \u001b[A\n",
            "Eliminating: BMI: 100%|██████████| 6/6 [00:00<00:00, 82.11it/s]\n"
          ]
        },
        {
          "output_type": "stream",
          "name": "stdout",
          "text": [
            "\n",
            "\n",
            "P(Cardio|alc=0, Gluc=1, chol=1, age=Old Adult)\n",
            "+-----------+---------------+\n",
            "| Cardio    |   phi(Cardio) |\n",
            "+===========+===============+\n",
            "| Cardio(0) |        0.5388 |\n",
            "+-----------+---------------+\n",
            "| Cardio(1) |        0.4612 |\n",
            "+-----------+---------------+\n"
          ]
        }
      ]
    }
  ]
}